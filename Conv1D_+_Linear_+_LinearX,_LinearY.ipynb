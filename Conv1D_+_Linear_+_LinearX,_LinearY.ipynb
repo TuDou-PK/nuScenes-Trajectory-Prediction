{
  "nbformat": 4,
  "nbformat_minor": 0,
  "metadata": {
    "colab": {
      "provenance": [],
      "collapsed_sections": []
    },
    "kernelspec": {
      "name": "python3",
      "display_name": "Python 3"
    },
    "language_info": {
      "name": "python"
    },
    "gpuClass": "standard",
    "widgets": {
      "application/vnd.jupyter.widget-state+json": {
        "f44bedba5d884c69be6344a56a4e4e96": {
          "model_module": "@jupyter-widgets/controls",
          "model_name": "HBoxModel",
          "model_module_version": "1.5.0",
          "state": {
            "_dom_classes": [],
            "_model_module": "@jupyter-widgets/controls",
            "_model_module_version": "1.5.0",
            "_model_name": "HBoxModel",
            "_view_count": null,
            "_view_module": "@jupyter-widgets/controls",
            "_view_module_version": "1.5.0",
            "_view_name": "HBoxView",
            "box_style": "",
            "children": [
              "IPY_MODEL_d3344854bbb247009c33dbe1e42ac042",
              "IPY_MODEL_d83ce7e5c0d442af835d76ce2fbad9b5",
              "IPY_MODEL_ff56f90bed894c87ad9f515bb82f0903"
            ],
            "layout": "IPY_MODEL_637f6010215e469096348b7576f1c606"
          }
        },
        "d3344854bbb247009c33dbe1e42ac042": {
          "model_module": "@jupyter-widgets/controls",
          "model_name": "HTMLModel",
          "model_module_version": "1.5.0",
          "state": {
            "_dom_classes": [],
            "_model_module": "@jupyter-widgets/controls",
            "_model_module_version": "1.5.0",
            "_model_name": "HTMLModel",
            "_view_count": null,
            "_view_module": "@jupyter-widgets/controls",
            "_view_module_version": "1.5.0",
            "_view_name": "HTMLView",
            "description": "",
            "description_tooltip": null,
            "layout": "IPY_MODEL_cd0bdfcc0ef24cba81367de8753a8985",
            "placeholder": "​",
            "style": "IPY_MODEL_05ae45c433f84468855c72d32202da66",
            "value": "100%"
          }
        },
        "d83ce7e5c0d442af835d76ce2fbad9b5": {
          "model_module": "@jupyter-widgets/controls",
          "model_name": "FloatProgressModel",
          "model_module_version": "1.5.0",
          "state": {
            "_dom_classes": [],
            "_model_module": "@jupyter-widgets/controls",
            "_model_module_version": "1.5.0",
            "_model_name": "FloatProgressModel",
            "_view_count": null,
            "_view_module": "@jupyter-widgets/controls",
            "_view_module_version": "1.5.0",
            "_view_name": "ProgressView",
            "bar_style": "success",
            "description": "",
            "description_tooltip": null,
            "layout": "IPY_MODEL_6091a52d7a6f47dc981678d93c5d32b4",
            "max": 3501,
            "min": 0,
            "orientation": "horizontal",
            "style": "IPY_MODEL_0f8b782dba9c43c99257c380936a0fbe",
            "value": 3501
          }
        },
        "ff56f90bed894c87ad9f515bb82f0903": {
          "model_module": "@jupyter-widgets/controls",
          "model_name": "HTMLModel",
          "model_module_version": "1.5.0",
          "state": {
            "_dom_classes": [],
            "_model_module": "@jupyter-widgets/controls",
            "_model_module_version": "1.5.0",
            "_model_name": "HTMLModel",
            "_view_count": null,
            "_view_module": "@jupyter-widgets/controls",
            "_view_module_version": "1.5.0",
            "_view_name": "HTMLView",
            "description": "",
            "description_tooltip": null,
            "layout": "IPY_MODEL_75509e29c98f4c09b76cfef47038ce2c",
            "placeholder": "​",
            "style": "IPY_MODEL_e55c858948004da0b8a4c034c79433a9",
            "value": " 3501/3501 [00:04&lt;00:00, 1001.02it/s]"
          }
        },
        "637f6010215e469096348b7576f1c606": {
          "model_module": "@jupyter-widgets/base",
          "model_name": "LayoutModel",
          "model_module_version": "1.2.0",
          "state": {
            "_model_module": "@jupyter-widgets/base",
            "_model_module_version": "1.2.0",
            "_model_name": "LayoutModel",
            "_view_count": null,
            "_view_module": "@jupyter-widgets/base",
            "_view_module_version": "1.2.0",
            "_view_name": "LayoutView",
            "align_content": null,
            "align_items": null,
            "align_self": null,
            "border": null,
            "bottom": null,
            "display": null,
            "flex": null,
            "flex_flow": null,
            "grid_area": null,
            "grid_auto_columns": null,
            "grid_auto_flow": null,
            "grid_auto_rows": null,
            "grid_column": null,
            "grid_gap": null,
            "grid_row": null,
            "grid_template_areas": null,
            "grid_template_columns": null,
            "grid_template_rows": null,
            "height": null,
            "justify_content": null,
            "justify_items": null,
            "left": null,
            "margin": null,
            "max_height": null,
            "max_width": null,
            "min_height": null,
            "min_width": null,
            "object_fit": null,
            "object_position": null,
            "order": null,
            "overflow": null,
            "overflow_x": null,
            "overflow_y": null,
            "padding": null,
            "right": null,
            "top": null,
            "visibility": null,
            "width": null
          }
        },
        "cd0bdfcc0ef24cba81367de8753a8985": {
          "model_module": "@jupyter-widgets/base",
          "model_name": "LayoutModel",
          "model_module_version": "1.2.0",
          "state": {
            "_model_module": "@jupyter-widgets/base",
            "_model_module_version": "1.2.0",
            "_model_name": "LayoutModel",
            "_view_count": null,
            "_view_module": "@jupyter-widgets/base",
            "_view_module_version": "1.2.0",
            "_view_name": "LayoutView",
            "align_content": null,
            "align_items": null,
            "align_self": null,
            "border": null,
            "bottom": null,
            "display": null,
            "flex": null,
            "flex_flow": null,
            "grid_area": null,
            "grid_auto_columns": null,
            "grid_auto_flow": null,
            "grid_auto_rows": null,
            "grid_column": null,
            "grid_gap": null,
            "grid_row": null,
            "grid_template_areas": null,
            "grid_template_columns": null,
            "grid_template_rows": null,
            "height": null,
            "justify_content": null,
            "justify_items": null,
            "left": null,
            "margin": null,
            "max_height": null,
            "max_width": null,
            "min_height": null,
            "min_width": null,
            "object_fit": null,
            "object_position": null,
            "order": null,
            "overflow": null,
            "overflow_x": null,
            "overflow_y": null,
            "padding": null,
            "right": null,
            "top": null,
            "visibility": null,
            "width": null
          }
        },
        "05ae45c433f84468855c72d32202da66": {
          "model_module": "@jupyter-widgets/controls",
          "model_name": "DescriptionStyleModel",
          "model_module_version": "1.5.0",
          "state": {
            "_model_module": "@jupyter-widgets/controls",
            "_model_module_version": "1.5.0",
            "_model_name": "DescriptionStyleModel",
            "_view_count": null,
            "_view_module": "@jupyter-widgets/base",
            "_view_module_version": "1.2.0",
            "_view_name": "StyleView",
            "description_width": ""
          }
        },
        "6091a52d7a6f47dc981678d93c5d32b4": {
          "model_module": "@jupyter-widgets/base",
          "model_name": "LayoutModel",
          "model_module_version": "1.2.0",
          "state": {
            "_model_module": "@jupyter-widgets/base",
            "_model_module_version": "1.2.0",
            "_model_name": "LayoutModel",
            "_view_count": null,
            "_view_module": "@jupyter-widgets/base",
            "_view_module_version": "1.2.0",
            "_view_name": "LayoutView",
            "align_content": null,
            "align_items": null,
            "align_self": null,
            "border": null,
            "bottom": null,
            "display": null,
            "flex": null,
            "flex_flow": null,
            "grid_area": null,
            "grid_auto_columns": null,
            "grid_auto_flow": null,
            "grid_auto_rows": null,
            "grid_column": null,
            "grid_gap": null,
            "grid_row": null,
            "grid_template_areas": null,
            "grid_template_columns": null,
            "grid_template_rows": null,
            "height": null,
            "justify_content": null,
            "justify_items": null,
            "left": null,
            "margin": null,
            "max_height": null,
            "max_width": null,
            "min_height": null,
            "min_width": null,
            "object_fit": null,
            "object_position": null,
            "order": null,
            "overflow": null,
            "overflow_x": null,
            "overflow_y": null,
            "padding": null,
            "right": null,
            "top": null,
            "visibility": null,
            "width": null
          }
        },
        "0f8b782dba9c43c99257c380936a0fbe": {
          "model_module": "@jupyter-widgets/controls",
          "model_name": "ProgressStyleModel",
          "model_module_version": "1.5.0",
          "state": {
            "_model_module": "@jupyter-widgets/controls",
            "_model_module_version": "1.5.0",
            "_model_name": "ProgressStyleModel",
            "_view_count": null,
            "_view_module": "@jupyter-widgets/base",
            "_view_module_version": "1.2.0",
            "_view_name": "StyleView",
            "bar_color": null,
            "description_width": ""
          }
        },
        "75509e29c98f4c09b76cfef47038ce2c": {
          "model_module": "@jupyter-widgets/base",
          "model_name": "LayoutModel",
          "model_module_version": "1.2.0",
          "state": {
            "_model_module": "@jupyter-widgets/base",
            "_model_module_version": "1.2.0",
            "_model_name": "LayoutModel",
            "_view_count": null,
            "_view_module": "@jupyter-widgets/base",
            "_view_module_version": "1.2.0",
            "_view_name": "LayoutView",
            "align_content": null,
            "align_items": null,
            "align_self": null,
            "border": null,
            "bottom": null,
            "display": null,
            "flex": null,
            "flex_flow": null,
            "grid_area": null,
            "grid_auto_columns": null,
            "grid_auto_flow": null,
            "grid_auto_rows": null,
            "grid_column": null,
            "grid_gap": null,
            "grid_row": null,
            "grid_template_areas": null,
            "grid_template_columns": null,
            "grid_template_rows": null,
            "height": null,
            "justify_content": null,
            "justify_items": null,
            "left": null,
            "margin": null,
            "max_height": null,
            "max_width": null,
            "min_height": null,
            "min_width": null,
            "object_fit": null,
            "object_position": null,
            "order": null,
            "overflow": null,
            "overflow_x": null,
            "overflow_y": null,
            "padding": null,
            "right": null,
            "top": null,
            "visibility": null,
            "width": null
          }
        },
        "e55c858948004da0b8a4c034c79433a9": {
          "model_module": "@jupyter-widgets/controls",
          "model_name": "DescriptionStyleModel",
          "model_module_version": "1.5.0",
          "state": {
            "_model_module": "@jupyter-widgets/controls",
            "_model_module_version": "1.5.0",
            "_model_name": "DescriptionStyleModel",
            "_view_count": null,
            "_view_module": "@jupyter-widgets/base",
            "_view_module_version": "1.2.0",
            "_view_name": "StyleView",
            "description_width": ""
          }
        }
      }
    }
  },
  "cells": [
    {
      "cell_type": "markdown",
      "source": [
        "# Conv1D + Linear + LinearX, LinearY"
      ],
      "metadata": {
        "id": "-WR67rwlZDES"
      }
    },
    {
      "cell_type": "markdown",
      "source": [
        "This is one of our modified model for researching the performance of single Conv1D layer without LSTM layer."
      ],
      "metadata": {
        "id": "Ua1kIdFzaBvL"
      }
    },
    {
      "cell_type": "markdown",
      "source": [
        "# Import "
      ],
      "metadata": {
        "id": "AQpKV7xiY-Ar"
      }
    },
    {
      "cell_type": "code",
      "source": [
        "from google.colab import drive\n",
        "drive.mount('/content/drive/')"
      ],
      "metadata": {
        "colab": {
          "base_uri": "https://localhost:8080/"
        },
        "id": "fFbsRDi9C7dp",
        "outputId": "03558de9-054a-4c9e-db4d-6ce9c4eca201"
      },
      "execution_count": null,
      "outputs": [
        {
          "output_type": "stream",
          "name": "stdout",
          "text": [
            "Drive already mounted at /content/drive/; to attempt to forcibly remount, call drive.mount(\"/content/drive/\", force_remount=True).\n"
          ]
        }
      ]
    },
    {
      "cell_type": "code",
      "execution_count": null,
      "metadata": {
        "id": "CE4LZbICUI3g",
        "colab": {
          "base_uri": "https://localhost:8080/"
        },
        "outputId": "89f637fe-abf3-4fff-8402-3092a9360fdc"
      },
      "outputs": [
        {
          "output_type": "stream",
          "name": "stdout",
          "text": [
            "Looking in indexes: https://pypi.org/simple, https://us-python.pkg.dev/colab-wheels/public/simple/\n",
            "Requirement already satisfied: nuscenes-devkit in /usr/local/lib/python3.7/dist-packages (1.1.9)\n",
            "Requirement already satisfied: matplotlib in /usr/local/lib/python3.7/dist-packages (from nuscenes-devkit) (3.2.2)\n",
            "Requirement already satisfied: fire in /usr/local/lib/python3.7/dist-packages (from nuscenes-devkit) (0.4.0)\n",
            "Requirement already satisfied: Pillow>6.2.1 in /usr/local/lib/python3.7/dist-packages (from nuscenes-devkit) (7.1.2)\n",
            "Requirement already satisfied: scipy in /usr/local/lib/python3.7/dist-packages (from nuscenes-devkit) (1.7.3)\n",
            "Requirement already satisfied: Shapely in /usr/local/lib/python3.7/dist-packages (from nuscenes-devkit) (1.8.2)\n",
            "Requirement already satisfied: cachetools in /usr/local/lib/python3.7/dist-packages (from nuscenes-devkit) (4.2.4)\n",
            "Requirement already satisfied: scikit-learn in /usr/local/lib/python3.7/dist-packages (from nuscenes-devkit) (1.0.2)\n",
            "Requirement already satisfied: numpy in /usr/local/lib/python3.7/dist-packages (from nuscenes-devkit) (1.21.6)\n",
            "Requirement already satisfied: pycocotools>=2.0.1 in /usr/local/lib/python3.7/dist-packages (from nuscenes-devkit) (2.0.4)\n",
            "Requirement already satisfied: opencv-python in /usr/local/lib/python3.7/dist-packages (from nuscenes-devkit) (4.6.0.66)\n",
            "Requirement already satisfied: tqdm in /usr/local/lib/python3.7/dist-packages (from nuscenes-devkit) (4.64.0)\n",
            "Requirement already satisfied: descartes in /usr/local/lib/python3.7/dist-packages (from nuscenes-devkit) (1.1.0)\n",
            "Requirement already satisfied: jupyter in /usr/local/lib/python3.7/dist-packages (from nuscenes-devkit) (1.0.0)\n",
            "Requirement already satisfied: pyquaternion>=0.9.5 in /usr/local/lib/python3.7/dist-packages (from nuscenes-devkit) (0.9.9)\n",
            "Requirement already satisfied: cycler>=0.10 in /usr/local/lib/python3.7/dist-packages (from matplotlib->nuscenes-devkit) (0.11.0)\n",
            "Requirement already satisfied: pyparsing!=2.0.4,!=2.1.2,!=2.1.6,>=2.0.1 in /usr/local/lib/python3.7/dist-packages (from matplotlib->nuscenes-devkit) (3.0.9)\n",
            "Requirement already satisfied: python-dateutil>=2.1 in /usr/local/lib/python3.7/dist-packages (from matplotlib->nuscenes-devkit) (2.8.2)\n",
            "Requirement already satisfied: kiwisolver>=1.0.1 in /usr/local/lib/python3.7/dist-packages (from matplotlib->nuscenes-devkit) (1.4.4)\n",
            "Requirement already satisfied: typing-extensions in /usr/local/lib/python3.7/dist-packages (from kiwisolver>=1.0.1->matplotlib->nuscenes-devkit) (4.1.1)\n",
            "Requirement already satisfied: six>=1.5 in /usr/local/lib/python3.7/dist-packages (from python-dateutil>=2.1->matplotlib->nuscenes-devkit) (1.15.0)\n",
            "Requirement already satisfied: termcolor in /usr/local/lib/python3.7/dist-packages (from fire->nuscenes-devkit) (1.1.0)\n",
            "Requirement already satisfied: nbconvert in /usr/local/lib/python3.7/dist-packages (from jupyter->nuscenes-devkit) (5.6.1)\n",
            "Requirement already satisfied: ipykernel in /usr/local/lib/python3.7/dist-packages (from jupyter->nuscenes-devkit) (4.10.1)\n",
            "Requirement already satisfied: jupyter-console in /usr/local/lib/python3.7/dist-packages (from jupyter->nuscenes-devkit) (5.2.0)\n",
            "Requirement already satisfied: qtconsole in /usr/local/lib/python3.7/dist-packages (from jupyter->nuscenes-devkit) (5.3.1)\n",
            "Requirement already satisfied: notebook in /usr/local/lib/python3.7/dist-packages (from jupyter->nuscenes-devkit) (5.3.1)\n",
            "Requirement already satisfied: ipywidgets in /usr/local/lib/python3.7/dist-packages (from jupyter->nuscenes-devkit) (7.7.1)\n",
            "Requirement already satisfied: traitlets>=4.1.0 in /usr/local/lib/python3.7/dist-packages (from ipykernel->jupyter->nuscenes-devkit) (5.1.1)\n",
            "Requirement already satisfied: jupyter-client in /usr/local/lib/python3.7/dist-packages (from ipykernel->jupyter->nuscenes-devkit) (5.3.5)\n",
            "Requirement already satisfied: tornado>=4.0 in /usr/local/lib/python3.7/dist-packages (from ipykernel->jupyter->nuscenes-devkit) (5.1.1)\n",
            "Requirement already satisfied: ipython>=4.0.0 in /usr/local/lib/python3.7/dist-packages (from ipykernel->jupyter->nuscenes-devkit) (5.5.0)\n",
            "Requirement already satisfied: setuptools>=18.5 in /usr/local/lib/python3.7/dist-packages (from ipython>=4.0.0->ipykernel->jupyter->nuscenes-devkit) (57.4.0)\n",
            "Requirement already satisfied: pexpect in /usr/local/lib/python3.7/dist-packages (from ipython>=4.0.0->ipykernel->jupyter->nuscenes-devkit) (4.8.0)\n",
            "Requirement already satisfied: pygments in /usr/local/lib/python3.7/dist-packages (from ipython>=4.0.0->ipykernel->jupyter->nuscenes-devkit) (2.6.1)\n",
            "Requirement already satisfied: prompt-toolkit<2.0.0,>=1.0.4 in /usr/local/lib/python3.7/dist-packages (from ipython>=4.0.0->ipykernel->jupyter->nuscenes-devkit) (1.0.18)\n",
            "Requirement already satisfied: decorator in /usr/local/lib/python3.7/dist-packages (from ipython>=4.0.0->ipykernel->jupyter->nuscenes-devkit) (4.4.2)\n",
            "Requirement already satisfied: simplegeneric>0.8 in /usr/local/lib/python3.7/dist-packages (from ipython>=4.0.0->ipykernel->jupyter->nuscenes-devkit) (0.8.1)\n",
            "Requirement already satisfied: pickleshare in /usr/local/lib/python3.7/dist-packages (from ipython>=4.0.0->ipykernel->jupyter->nuscenes-devkit) (0.7.5)\n",
            "Requirement already satisfied: wcwidth in /usr/local/lib/python3.7/dist-packages (from prompt-toolkit<2.0.0,>=1.0.4->ipython>=4.0.0->ipykernel->jupyter->nuscenes-devkit) (0.2.5)\n",
            "Requirement already satisfied: widgetsnbextension~=3.6.0 in /usr/local/lib/python3.7/dist-packages (from ipywidgets->jupyter->nuscenes-devkit) (3.6.1)\n",
            "Requirement already satisfied: ipython-genutils~=0.2.0 in /usr/local/lib/python3.7/dist-packages (from ipywidgets->jupyter->nuscenes-devkit) (0.2.0)\n",
            "Requirement already satisfied: jupyterlab-widgets>=1.0.0 in /usr/local/lib/python3.7/dist-packages (from ipywidgets->jupyter->nuscenes-devkit) (1.1.1)\n",
            "Requirement already satisfied: jupyter-core>=4.4.0 in /usr/local/lib/python3.7/dist-packages (from notebook->jupyter->nuscenes-devkit) (4.11.1)\n",
            "Requirement already satisfied: Send2Trash in /usr/local/lib/python3.7/dist-packages (from notebook->jupyter->nuscenes-devkit) (1.8.0)\n",
            "Requirement already satisfied: terminado>=0.8.1 in /usr/local/lib/python3.7/dist-packages (from notebook->jupyter->nuscenes-devkit) (0.13.3)\n",
            "Requirement already satisfied: jinja2 in /usr/local/lib/python3.7/dist-packages (from notebook->jupyter->nuscenes-devkit) (2.11.3)\n",
            "Requirement already satisfied: nbformat in /usr/local/lib/python3.7/dist-packages (from notebook->jupyter->nuscenes-devkit) (5.4.0)\n",
            "Requirement already satisfied: pyzmq>=13 in /usr/local/lib/python3.7/dist-packages (from jupyter-client->ipykernel->jupyter->nuscenes-devkit) (23.2.0)\n",
            "Requirement already satisfied: ptyprocess in /usr/local/lib/python3.7/dist-packages (from terminado>=0.8.1->notebook->jupyter->nuscenes-devkit) (0.7.0)\n",
            "Requirement already satisfied: MarkupSafe>=0.23 in /usr/local/lib/python3.7/dist-packages (from jinja2->notebook->jupyter->nuscenes-devkit) (2.0.1)\n",
            "Requirement already satisfied: pandocfilters>=1.4.1 in /usr/local/lib/python3.7/dist-packages (from nbconvert->jupyter->nuscenes-devkit) (1.5.0)\n",
            "Requirement already satisfied: testpath in /usr/local/lib/python3.7/dist-packages (from nbconvert->jupyter->nuscenes-devkit) (0.6.0)\n",
            "Requirement already satisfied: entrypoints>=0.2.2 in /usr/local/lib/python3.7/dist-packages (from nbconvert->jupyter->nuscenes-devkit) (0.4)\n",
            "Requirement already satisfied: bleach in /usr/local/lib/python3.7/dist-packages (from nbconvert->jupyter->nuscenes-devkit) (5.0.1)\n",
            "Requirement already satisfied: mistune<2,>=0.8.1 in /usr/local/lib/python3.7/dist-packages (from nbconvert->jupyter->nuscenes-devkit) (0.8.4)\n",
            "Requirement already satisfied: defusedxml in /usr/local/lib/python3.7/dist-packages (from nbconvert->jupyter->nuscenes-devkit) (0.7.1)\n",
            "Requirement already satisfied: fastjsonschema in /usr/local/lib/python3.7/dist-packages (from nbformat->notebook->jupyter->nuscenes-devkit) (2.16.1)\n",
            "Requirement already satisfied: jsonschema>=2.6 in /usr/local/lib/python3.7/dist-packages (from nbformat->notebook->jupyter->nuscenes-devkit) (4.3.3)\n",
            "Requirement already satisfied: importlib-resources>=1.4.0 in /usr/local/lib/python3.7/dist-packages (from jsonschema>=2.6->nbformat->notebook->jupyter->nuscenes-devkit) (5.9.0)\n",
            "Requirement already satisfied: importlib-metadata in /usr/local/lib/python3.7/dist-packages (from jsonschema>=2.6->nbformat->notebook->jupyter->nuscenes-devkit) (4.12.0)\n",
            "Requirement already satisfied: pyrsistent!=0.17.0,!=0.17.1,!=0.17.2,>=0.14.0 in /usr/local/lib/python3.7/dist-packages (from jsonschema>=2.6->nbformat->notebook->jupyter->nuscenes-devkit) (0.18.1)\n",
            "Requirement already satisfied: attrs>=17.4.0 in /usr/local/lib/python3.7/dist-packages (from jsonschema>=2.6->nbformat->notebook->jupyter->nuscenes-devkit) (22.1.0)\n",
            "Requirement already satisfied: zipp>=3.1.0 in /usr/local/lib/python3.7/dist-packages (from importlib-resources>=1.4.0->jsonschema>=2.6->nbformat->notebook->jupyter->nuscenes-devkit) (3.8.1)\n",
            "Requirement already satisfied: webencodings in /usr/local/lib/python3.7/dist-packages (from bleach->nbconvert->jupyter->nuscenes-devkit) (0.5.1)\n",
            "Requirement already satisfied: qtpy>=2.0.1 in /usr/local/lib/python3.7/dist-packages (from qtconsole->jupyter->nuscenes-devkit) (2.1.0)\n",
            "Requirement already satisfied: packaging in /usr/local/lib/python3.7/dist-packages (from qtpy>=2.0.1->qtconsole->jupyter->nuscenes-devkit) (21.3)\n",
            "Requirement already satisfied: joblib>=0.11 in /usr/local/lib/python3.7/dist-packages (from scikit-learn->nuscenes-devkit) (1.1.0)\n",
            "Requirement already satisfied: threadpoolctl>=2.0.0 in /usr/local/lib/python3.7/dist-packages (from scikit-learn->nuscenes-devkit) (3.1.0)\n"
          ]
        }
      ],
      "source": [
        "# nuscenes-devkit tools \n",
        "!pip install nuscenes-devkit"
      ]
    },
    {
      "cell_type": "code",
      "source": [
        "# math\n",
        "import numpy as np\n",
        "import math\n",
        "\n",
        "# torch\n",
        "import torch\n",
        "import torch.nn as nn\n",
        "from torch.autograd import Variable\n",
        "\n",
        "# generic\n",
        "from sklearn.preprocessing import MinMaxScaler\n",
        "from tqdm.notebook import tqdm\n",
        "import gc\n",
        "\n",
        "# nuscenes\n",
        "import nuscenes\n",
        "from nuscenes.eval.prediction import metrics\n",
        "from nuscenes.prediction import PredictHelper\n",
        "\n",
        "# plot\n",
        "import matplotlib.pyplot as plt"
      ],
      "metadata": {
        "id": "rWKyHytKXwN4"
      },
      "execution_count": null,
      "outputs": []
    },
    {
      "cell_type": "markdown",
      "source": [
        "## 2. Using GPU"
      ],
      "metadata": {
        "id": "8zXI2jYdcTH6"
      }
    },
    {
      "cell_type": "code",
      "source": [
        "# Using GPU\n",
        "device = torch.device(\"cuda:0\" if torch.cuda.is_available() else \"cpu\")\n",
        "device"
      ],
      "metadata": {
        "id": "_vBR-xK0VGJ9",
        "colab": {
          "base_uri": "https://localhost:8080/"
        },
        "outputId": "df0d6e58-8713-4aa7-c2f1-fda24bcfebf8"
      },
      "execution_count": null,
      "outputs": [
        {
          "output_type": "execute_result",
          "data": {
            "text/plain": [
              "device(type='cpu')"
            ]
          },
          "metadata": {},
          "execution_count": 20
        }
      ]
    },
    {
      "cell_type": "markdown",
      "source": [
        "You can import the file \"np_trajectory_data_22_with_VAR.npy\" from [Link](https://drive.google.com/drive/folders/118Z18sWEg4CqHAhFcYmDqXvDj2qk4YtI?usp=sharing), it's the same with \"trajectory\" data in \"DL-Project.ipynb\" at code 3.3. Just for testing convenience \n",
        "\n",
        "`trajectory = get_trajectories(trajectory_data, uni_instance_ids)`\n",
        "\n",
        "\n",
        "`np.save('np_trajectory_data_22_with_VAR.npy', trajectory)\n",
        "`"
      ],
      "metadata": {
        "id": "lKrlsNMg6Tnn"
      }
    },
    {
      "cell_type": "code",
      "source": [
        "trajectory = np.load(\"/content/drive/MyDrive/DL_nuScenes/np_trajectory_data_22_with_VAR.npy\", allow_pickle=True)"
      ],
      "metadata": {
        "id": "B7Vo0FnWXmBa"
      },
      "execution_count": null,
      "outputs": []
    },
    {
      "cell_type": "code",
      "source": [
        "trajectory.shape"
      ],
      "metadata": {
        "colab": {
          "base_uri": "https://localhost:8080/"
        },
        "id": "pQx2I5_PXmFw",
        "outputId": "c9a0ca60-b4f4-4770-97e1-41c2ad4a546b"
      },
      "execution_count": null,
      "outputs": [
        {
          "output_type": "execute_result",
          "data": {
            "text/plain": [
              "(17503,)"
            ]
          },
          "metadata": {},
          "execution_count": 22
        }
      ]
    },
    {
      "cell_type": "markdown",
      "source": [
        "### 3 Spliting Datasets\n",
        "\n",
        "\n",
        "- Spliting the dataset:\n",
        "  - 60% as training data\n",
        "  - 20% as validation data\n",
        "  - 20% as test data"
      ],
      "metadata": {
        "id": "8M9CmuXbcxo0"
      }
    },
    {
      "cell_type": "code",
      "source": [
        "train_data = trajectory[0:int(len(trajectory) * 0.6)]\n",
        "val_data = trajectory[int(len(trajectory) * 0.6): int(len(trajectory) * 0.8)]\n",
        "test_data = trajectory[int(len(trajectory) * 0.8):]"
      ],
      "metadata": {
        "id": "vzO5fXC4Yz73"
      },
      "execution_count": null,
      "outputs": []
    },
    {
      "cell_type": "markdown",
      "source": [
        "## 4. Utils\n",
        "- Our tools\n",
        "\n"
      ],
      "metadata": {
        "id": "JJcW9kvYc7Km"
      }
    },
    {
      "cell_type": "code",
      "source": [
        "def sliding_window(data, SEQ_LENGTH):\n",
        "    \"\"\"using sliding window divide the single trajectory into several train samples\n",
        "    \"\"\"\n",
        "    origin_xs = []\n",
        "    expected_xs = []\n",
        "    for i in range(len(data) - SEQ_LENGTH - 11):\n",
        "        origin_x = data[i: (i + SEQ_LENGTH)]\n",
        "        expected_x = data[(i + SEQ_LENGTH): (i + SEQ_LENGTH + 12)]\n",
        "        origin_xs.append(origin_x)\n",
        "        expected_xs.append(expected_x)\n",
        "    return np.array(origin_xs), np.array(expected_xs)\n",
        "\n",
        "\n",
        "def reshape_data_1(x):\n",
        "    \"\"\"convert the data to tensor and reshape\n",
        "    \"\"\"\n",
        "    X = torch.tensor(np.array(x), dtype=torch.float32)\n",
        "    X = torch.reshape(X, (X.shape[0], 1))\n",
        "    return X\n",
        "\n",
        "\n",
        "def reshape_data_2(x):\n",
        "    \"\"\"convert the data to tensor and reshape\n",
        "    \"\"\"\n",
        "    X = torch.tensor(np.array(x), dtype=torch.float32)\n",
        "    X = torch.reshape(X, (X.shape[0], X.shape[1], 1))\n",
        "    return X\n",
        "\n",
        "\n",
        "def costruct_train_dataset(trajectory, SEQ_LENGTH):\n",
        "    \"\"\"contruct the train dataset\n",
        "    \"\"\"\n",
        "    tra = []\n",
        "    for t in trajectory:\n",
        "        tra.append(t[2:7])\n",
        "\n",
        "    # scaling data\n",
        "    scaler = MinMaxScaler(feature_range=(-1, 1))\n",
        "    xyvar = scaler.fit_transform(tra)\n",
        "\n",
        "    # get x, y, speed, accleration, heading rate\n",
        "    x, y, v, a, r = xyvar[:, 0], xyvar[:,\n",
        "                                       1], xyvar[:, 2], xyvar[:, 3], xyvar[:, 4]\n",
        "\n",
        "    # using sliding_window to get the train data\n",
        "    x, exp_x = sliding_window(x, SEQ_LENGTH)\n",
        "    y, exp_y = sliding_window(y, SEQ_LENGTH)\n",
        "    v, exp_v = sliding_window(v, SEQ_LENGTH)\n",
        "    a, exp_a = sliding_window(a, SEQ_LENGTH)\n",
        "    r, exp_r = sliding_window(r, SEQ_LENGTH)\n",
        "\n",
        "    # reshape x, y, ground x and y\n",
        "    dataX = reshape_data_2(x)\n",
        "    dataY = reshape_data_2(y)\n",
        "    exp_x = reshape_data_2(exp_x)\n",
        "    exp_y = reshape_data_2(exp_y)\n",
        "\n",
        "    # reshape speed, accleration, heading rate\n",
        "    dataV = reshape_data_2(v)\n",
        "    dataA = reshape_data_2(a)\n",
        "    dataR = reshape_data_2(r)\n",
        "    exp_v = reshape_data_2(exp_v)\n",
        "    exp_a = reshape_data_2(exp_a)\n",
        "    exp_r = reshape_data_2(exp_r)\n",
        "\n",
        "    return dataX, dataY, exp_x, exp_y, dataV, exp_v, dataA, exp_a, dataR, exp_r\n",
        "\n",
        "\n",
        "def clean_nan(tra):\n",
        "    \"\"\" Remove nan point\n",
        "    \"\"\"\n",
        "    tra_new = []\n",
        "    for t in tra:\n",
        "        if math.isnan(t[4]) or math.isnan(t[5]) or math.isnan(t[6]):\n",
        "            continue\n",
        "        else:\n",
        "            tra_new.append(t)\n",
        "    return tra_new\n",
        "\n",
        "\n",
        "def traj2modes(trajs):\n",
        "    \"\"\"Convert data type to numpy.array\n",
        "    \"\"\"\n",
        "    return np.array([trajs])"
      ],
      "metadata": {
        "id": "hZwNOAO_Yz9m"
      },
      "execution_count": null,
      "outputs": []
    },
    {
      "cell_type": "markdown",
      "source": [
        "### 5.4 Conv1D + Linear + LinearX, LinearY\n",
        "- Add a CNN layer instead of LSTM to extract the feature of sequence. \n",
        "![3.png](data:image/png;base64,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)"
      ],
      "metadata": {
        "id": "u8PFXNwPeEun"
      }
    },
    {
      "cell_type": "code",
      "source": [
        "class Model(nn.Module):\n",
        "\n",
        "    def __init__(self, input_size, hidden_size, num_layers):\n",
        "        '''\n",
        "        data: [batch, sequence, data]\n",
        "        '''\n",
        "        super(Model, self).__init__()\n",
        "        # model size\n",
        "        self.num_layers = num_layers\n",
        "        self.input_size = input_size\n",
        "        self.hidden_size = hidden_size\n",
        "\n",
        "        # layers\n",
        "        self.cnn = nn.Conv1d(5, 32, 3)\n",
        "\n",
        "        # dense\n",
        "        self.fc0 = nn.Linear(32 * 6, 24)\n",
        "        self.fcX = nn.Linear(24, 12)\n",
        "        self.fcY = nn.Linear(24, 12)\n",
        "        \n",
        "\n",
        "    def forward(self, data):\n",
        "        ''' \n",
        "        data: [b, 8, 5]\n",
        "        '''\n",
        "\n",
        "        # Conv1d\n",
        "        # [b, 8, 5] -> [b, 5, 8]\n",
        "        data = torch.permute(data, (0, 2, 1))\n",
        "        # [b, 5, 8] -> [b, 32, 6]\n",
        "        data = self.cnn(data)\n",
        "\n",
        "        # [b, 32, 6] -> [b, 6, 32]\n",
        "        data = torch.permute(data, (0, 2, 1))\n",
        "        # LSTM\n",
        "        # [b, 32, 6] -> [b, 32, 32]\n",
        "        # out, (_, _) = self.lstm(data, (h_0, c_0))\n",
        "\n",
        "        # Dense\n",
        "        # flatten [b, 32, 6] -> [b, 32*6]\n",
        "        out = torch.flatten(data, start_dim=1)\n",
        "        # [b, 32*6] -> [b, 24]\n",
        "        out = self.fc0(out)\n",
        "\n",
        "        # output\n",
        "        # [b, 24] -> [b, 12]\n",
        "        out_x = self.fcX(out)\n",
        "        # [b, 24] -> [b, 12]\n",
        "        out_y = self.fcY(out)\n",
        "        # [b, 12] -> [b, 12, 1]\n",
        "        out_x = torch.reshape(out_x, (out_x.shape[0], out_x.shape[1], 1))\n",
        "        # [b, 12] -> [b, 12, 1]\n",
        "        out_y = torch.reshape(out_y, (out_y.shape[0], out_y.shape[1], 1))\n",
        "\n",
        "        return out_x, out_y"
      ],
      "metadata": {
        "id": "YsA4Ec7WYz_X"
      },
      "execution_count": null,
      "outputs": []
    },
    {
      "cell_type": "markdown",
      "source": [
        "## 6.Training"
      ],
      "metadata": {
        "id": "t8zX2mx7eFJ-"
      }
    },
    {
      "cell_type": "markdown",
      "source": [
        "### 6.1 Train Function\n",
        "- In order to crop the data into the same shape and expand the \n",
        "training set data，we divide the single trajectory into several samples\n",
        "using silding window. \n",
        "\n",
        "- We chose the five features contain target x, y, speed, \n",
        "acceleration and heading rate as input feed to the model, \n",
        "and get the predicted (x, y) as output to Propagate loss.\n"
      ],
      "metadata": {
        "id": "1cJ7AEd-ee5z"
      }
    },
    {
      "cell_type": "code",
      "source": [
        "def train_func(trajectory, model, SEQ_LENGTH, epoch, optimizer, loss_func):\n",
        "    model.train()\n",
        "    Interval = 200\n",
        "    train_loss = 0\n",
        "    train_loss_in_batches = []\n",
        "    interval_loss = 0\n",
        "    i = 0\n",
        "\n",
        "    for tra in trajectory:\n",
        "        # clean nan\n",
        "        tra = clean_nan(tra)\n",
        "\n",
        "        # remove short trajectories\n",
        "        if len(tra) < 20 or tra[0][-1] == 0:\n",
        "            continue\n",
        "\n",
        "        # zero grad\n",
        "        optimizer.zero_grad()\n",
        "\n",
        "        # get trajectories\n",
        "        x, y, ex, ey, v, ev, a, ea, r, er = costruct_train_dataset(\n",
        "            tra, SEQ_LENGTH)\n",
        "\n",
        "        # cat train data\n",
        "        cat_data = torch.cat([x, y, v, a, r], dim=2)\n",
        "        cat_data = cat_data.to(device)\n",
        "\n",
        "        # lstm model\n",
        "        predicted_output_x, predicted_output_y = model(cat_data)\n",
        "\n",
        "        # loss\n",
        "        ex, ey = ex.to(device), ey.to(device)\n",
        "        loss_x = loss_func(predicted_output_x, ex)\n",
        "        loss_y = loss_func(predicted_output_y, ey)\n",
        "        loss = loss_x + loss_y\n",
        "        train_loss += loss\n",
        "        interval_loss += loss\n",
        "\n",
        "        # loss backward\n",
        "        loss.backward()\n",
        "\n",
        "        # optimizer\n",
        "        optimizer.step()\n",
        "\n",
        "        # train samples count\n",
        "        i += 1\n",
        "\n",
        "        # print loss\n",
        "        if i % Interval == 0 and i > 0:\n",
        "            print(\n",
        "                f\"| Epoch {epoch:3d} | {i:5d}/5400   batches | loss: {interval_loss / Interval:8.3f}\")\n",
        "            # whole losses\n",
        "            train_loss_in_batches.append((interval_loss / Interval).cpu().data)\n",
        "            interval_loss = 0\n",
        "\n",
        "    return train_loss / len(trajectory), train_loss_in_batches\n",
        "\n",
        "\n",
        "def val_func(trajectory, lstm, SEQ_LENGTH, epoch, loss_func):\n",
        "    lstm.eval()\n",
        "    cum_loss = 0\n",
        "    length = len(trajectory)\n",
        "    loss_in_batches = []\n",
        "\n",
        "    with torch.no_grad():\n",
        "        for tra in trajectory:\n",
        "            # clean nan\n",
        "            tra = clean_nan(tra)\n",
        "\n",
        "            # remove short trajectories\n",
        "            if len(tra) < 20 or tra[0][-1] == 0:\n",
        "                length -= 1\n",
        "                continue\n",
        "            # get trajectories\n",
        "            x, y, ex, ey, v, ev, a, ea, r, er = costruct_train_dataset(\n",
        "                tra, SEQ_LENGTH)\n",
        "\n",
        "            # cat val data\n",
        "            cat_data = torch.cat([x, y, v, a, r], dim=2)\n",
        "            cat_data = cat_data.to(device)\n",
        "\n",
        "            # model\n",
        "            predicted_output_x, predicted_output_y = lstm(cat_data)\n",
        "\n",
        "            # loss\n",
        "            ex, ey = ex.to(device), ey.to(device)\n",
        "            loss_x = loss_func(predicted_output_x, ex)\n",
        "            loss_y = loss_func(predicted_output_y, ey)\n",
        "            cum_loss += (loss_x + loss_y)\n",
        "            # print loss\n",
        "    print(\n",
        "        f'| Validation Epoch {epoch:3d} | Avg-Val Loss: {cum_loss / (length)}')\n",
        "\n",
        "    return cum_loss / length"
      ],
      "metadata": {
        "id": "2FbYczCEY0BJ"
      },
      "execution_count": null,
      "outputs": []
    },
    {
      "cell_type": "markdown",
      "source": [
        "### 6.2 Model Instantiation\n",
        "- The input shape is 5 which is (x, y, v, a, r)\n",
        "- And data trained on GPU"
      ],
      "metadata": {
        "id": "0YbYMTN6ek2Y"
      }
    },
    {
      "cell_type": "code",
      "source": [
        "cnn_lstm = Model(6, 32, 1)\n",
        "cnn_lstm = cnn_lstm.to(device)\n",
        "LEARNING_RATE = 0.001\n",
        "loss_func = torch.nn.MSELoss()\n",
        "optimizer = torch.optim.Adam(cnn_lstm.parameters(), lr=LEARNING_RATE)\n",
        "scheduler = torch.optim.lr_scheduler.StepLR(optimizer, step_size=1, gamma=0.1)"
      ],
      "metadata": {
        "id": "HVNrnIPsY0C6"
      },
      "execution_count": null,
      "outputs": []
    },
    {
      "cell_type": "markdown",
      "source": [
        "### 6.3 Train Model\n",
        "- Trianing preocess with epoch = 3"
      ],
      "metadata": {
        "id": "RvIddzJhesua"
      }
    },
    {
      "cell_type": "code",
      "source": [
        "PREDICTED_LENGTH = 12\n",
        "SEQ_LENGTH = 8\n",
        "EPOCH = 6\n",
        "\n",
        "t_loss_in_batches = []\n",
        "t_loss = []\n",
        "v_loss = []\n",
        "\n",
        "for epoch in range(EPOCH):\n",
        "    train_loss, train_loss_in_batches = train_func(\n",
        "        train_data, cnn_lstm, SEQ_LENGTH, epoch, optimizer, loss_func)\n",
        "    val_loss = val_func(val_data, cnn_lstm, SEQ_LENGTH, epoch, loss_func)\n",
        "    t_loss.append(train_loss.item())\n",
        "    t_loss_in_batches = np.append(t_loss_in_batches, train_loss_in_batches)\n",
        "    v_loss.append(val_loss.item())"
      ],
      "metadata": {
        "id": "bHICs1K8ZfMp",
        "colab": {
          "base_uri": "https://localhost:8080/"
        },
        "outputId": "c56eb160-e05e-469f-b82e-15944f5c285e"
      },
      "execution_count": null,
      "outputs": [
        {
          "output_type": "stream",
          "name": "stdout",
          "text": [
            "| Epoch   0 |   200/5400   batches | loss:    0.694\n",
            "| Epoch   0 |   400/5400   batches | loss:    0.465\n",
            "| Epoch   0 |   600/5400   batches | loss:    0.415\n",
            "| Epoch   0 |   800/5400   batches | loss:    0.374\n",
            "| Epoch   0 |  1000/5400   batches | loss:    0.391\n",
            "| Epoch   0 |  1200/5400   batches | loss:    0.417\n",
            "| Epoch   0 |  1400/5400   batches | loss:    0.392\n",
            "| Epoch   0 |  1600/5400   batches | loss:    0.360\n",
            "| Epoch   0 |  1800/5400   batches | loss:    0.381\n",
            "| Epoch   0 |  2000/5400   batches | loss:    0.346\n",
            "| Epoch   0 |  2200/5400   batches | loss:    0.350\n",
            "| Epoch   0 |  2400/5400   batches | loss:    0.414\n",
            "| Epoch   0 |  2600/5400   batches | loss:    0.370\n",
            "| Epoch   0 |  2800/5400   batches | loss:    0.383\n",
            "| Epoch   0 |  3000/5400   batches | loss:    0.371\n",
            "| Epoch   0 |  3200/5400   batches | loss:    0.316\n",
            "| Epoch   0 |  3400/5400   batches | loss:    0.324\n",
            "| Epoch   0 |  3600/5400   batches | loss:    0.408\n",
            "| Epoch   0 |  3800/5400   batches | loss:    0.328\n",
            "| Epoch   0 |  4000/5400   batches | loss:    0.389\n",
            "| Epoch   0 |  4200/5400   batches | loss:    0.375\n",
            "| Epoch   0 |  4400/5400   batches | loss:    0.362\n",
            "| Epoch   0 |  4600/5400   batches | loss:    0.381\n",
            "| Epoch   0 |  4800/5400   batches | loss:    0.352\n",
            "| Epoch   0 |  5000/5400   batches | loss:    0.339\n",
            "| Epoch   0 |  5200/5400   batches | loss:    0.333\n",
            "| Epoch   0 |  5400/5400   batches | loss:    0.314\n",
            "| Validation Epoch   0 | Avg-Val Loss: 0.35007572174072266\n",
            "| Epoch   1 |   200/5400   batches | loss:    0.369\n",
            "| Epoch   1 |   400/5400   batches | loss:    0.339\n",
            "| Epoch   1 |   600/5400   batches | loss:    0.352\n",
            "| Epoch   1 |   800/5400   batches | loss:    0.310\n",
            "| Epoch   1 |  1000/5400   batches | loss:    0.347\n",
            "| Epoch   1 |  1200/5400   batches | loss:    0.375\n",
            "| Epoch   1 |  1400/5400   batches | loss:    0.362\n",
            "| Epoch   1 |  1600/5400   batches | loss:    0.324\n",
            "| Epoch   1 |  1800/5400   batches | loss:    0.346\n",
            "| Epoch   1 |  2000/5400   batches | loss:    0.328\n",
            "| Epoch   1 |  2200/5400   batches | loss:    0.323\n",
            "| Epoch   1 |  2400/5400   batches | loss:    0.391\n",
            "| Epoch   1 |  2600/5400   batches | loss:    0.345\n",
            "| Epoch   1 |  2800/5400   batches | loss:    0.361\n",
            "| Epoch   1 |  3000/5400   batches | loss:    0.353\n",
            "| Epoch   1 |  3200/5400   batches | loss:    0.302\n",
            "| Epoch   1 |  3400/5400   batches | loss:    0.313\n",
            "| Epoch   1 |  3600/5400   batches | loss:    0.396\n",
            "| Epoch   1 |  3800/5400   batches | loss:    0.319\n",
            "| Epoch   1 |  4000/5400   batches | loss:    0.376\n",
            "| Epoch   1 |  4200/5400   batches | loss:    0.368\n",
            "| Epoch   1 |  4400/5400   batches | loss:    0.355\n",
            "| Epoch   1 |  4600/5400   batches | loss:    0.372\n",
            "| Epoch   1 |  4800/5400   batches | loss:    0.348\n",
            "| Epoch   1 |  5000/5400   batches | loss:    0.333\n",
            "| Epoch   1 |  5200/5400   batches | loss:    0.327\n",
            "| Epoch   1 |  5400/5400   batches | loss:    0.308\n",
            "| Validation Epoch   1 | Avg-Val Loss: 0.3466573655605316\n",
            "| Epoch   2 |   200/5400   batches | loss:    0.360\n",
            "| Epoch   2 |   400/5400   batches | loss:    0.336\n",
            "| Epoch   2 |   600/5400   batches | loss:    0.349\n",
            "| Epoch   2 |   800/5400   batches | loss:    0.305\n",
            "| Epoch   2 |  1000/5400   batches | loss:    0.345\n",
            "| Epoch   2 |  1200/5400   batches | loss:    0.370\n",
            "| Epoch   2 |  1400/5400   batches | loss:    0.359\n",
            "| Epoch   2 |  1600/5400   batches | loss:    0.320\n",
            "| Epoch   2 |  1800/5400   batches | loss:    0.341\n",
            "| Epoch   2 |  2000/5400   batches | loss:    0.326\n",
            "| Epoch   2 |  2200/5400   batches | loss:    0.320\n",
            "| Epoch   2 |  2400/5400   batches | loss:    0.388\n",
            "| Epoch   2 |  2600/5400   batches | loss:    0.342\n",
            "| Epoch   2 |  2800/5400   batches | loss:    0.355\n",
            "| Epoch   2 |  3000/5400   batches | loss:    0.351\n",
            "| Epoch   2 |  3200/5400   batches | loss:    0.299\n",
            "| Epoch   2 |  3400/5400   batches | loss:    0.310\n",
            "| Epoch   2 |  3600/5400   batches | loss:    0.393\n",
            "| Epoch   2 |  3800/5400   batches | loss:    0.317\n",
            "| Epoch   2 |  4000/5400   batches | loss:    0.373\n",
            "| Epoch   2 |  4200/5400   batches | loss:    0.367\n",
            "| Epoch   2 |  4400/5400   batches | loss:    0.352\n",
            "| Epoch   2 |  4600/5400   batches | loss:    0.369\n",
            "| Epoch   2 |  4800/5400   batches | loss:    0.347\n",
            "| Epoch   2 |  5000/5400   batches | loss:    0.330\n",
            "| Epoch   2 |  5200/5400   batches | loss:    0.325\n",
            "| Epoch   2 |  5400/5400   batches | loss:    0.306\n",
            "| Validation Epoch   2 | Avg-Val Loss: 0.3453250527381897\n",
            "| Epoch   3 |   200/5400   batches | loss:    0.357\n",
            "| Epoch   3 |   400/5400   batches | loss:    0.334\n",
            "| Epoch   3 |   600/5400   batches | loss:    0.347\n",
            "| Epoch   3 |   800/5400   batches | loss:    0.302\n",
            "| Epoch   3 |  1000/5400   batches | loss:    0.345\n",
            "| Epoch   3 |  1200/5400   batches | loss:    0.367\n",
            "| Epoch   3 |  1400/5400   batches | loss:    0.357\n",
            "| Epoch   3 |  1600/5400   batches | loss:    0.318\n",
            "| Epoch   3 |  1800/5400   batches | loss:    0.338\n",
            "| Epoch   3 |  2000/5400   batches | loss:    0.324\n",
            "| Epoch   3 |  2200/5400   batches | loss:    0.318\n",
            "| Epoch   3 |  2400/5400   batches | loss:    0.386\n",
            "| Epoch   3 |  2600/5400   batches | loss:    0.340\n",
            "| Epoch   3 |  2800/5400   batches | loss:    0.352\n",
            "| Epoch   3 |  3000/5400   batches | loss:    0.349\n",
            "| Epoch   3 |  3200/5400   batches | loss:    0.297\n",
            "| Epoch   3 |  3400/5400   batches | loss:    0.309\n",
            "| Epoch   3 |  3600/5400   batches | loss:    0.390\n",
            "| Epoch   3 |  3800/5400   batches | loss:    0.316\n",
            "| Epoch   3 |  4000/5400   batches | loss:    0.372\n",
            "| Epoch   3 |  4200/5400   batches | loss:    0.365\n",
            "| Epoch   3 |  4400/5400   batches | loss:    0.350\n",
            "| Epoch   3 |  4600/5400   batches | loss:    0.367\n",
            "| Epoch   3 |  4800/5400   batches | loss:    0.346\n",
            "| Epoch   3 |  5000/5400   batches | loss:    0.329\n",
            "| Epoch   3 |  5200/5400   batches | loss:    0.323\n",
            "| Epoch   3 |  5400/5400   batches | loss:    0.304\n",
            "| Validation Epoch   3 | Avg-Val Loss: 0.3438868522644043\n",
            "| Epoch   4 |   200/5400   batches | loss:    0.355\n",
            "| Epoch   4 |   400/5400   batches | loss:    0.333\n",
            "| Epoch   4 |   600/5400   batches | loss:    0.345\n",
            "| Epoch   4 |   800/5400   batches | loss:    0.300\n",
            "| Epoch   4 |  1000/5400   batches | loss:    0.344\n",
            "| Epoch   4 |  1200/5400   batches | loss:    0.366\n",
            "| Epoch   4 |  1400/5400   batches | loss:    0.355\n",
            "| Epoch   4 |  1600/5400   batches | loss:    0.317\n",
            "| Epoch   4 |  1800/5400   batches | loss:    0.336\n",
            "| Epoch   4 |  2000/5400   batches | loss:    0.323\n",
            "| Epoch   4 |  2200/5400   batches | loss:    0.317\n",
            "| Epoch   4 |  2400/5400   batches | loss:    0.385\n",
            "| Epoch   4 |  2600/5400   batches | loss:    0.339\n",
            "| Epoch   4 |  2800/5400   batches | loss:    0.350\n",
            "| Epoch   4 |  3000/5400   batches | loss:    0.348\n",
            "| Epoch   4 |  3200/5400   batches | loss:    0.296\n",
            "| Epoch   4 |  3400/5400   batches | loss:    0.307\n",
            "| Epoch   4 |  3600/5400   batches | loss:    0.388\n",
            "| Epoch   4 |  3800/5400   batches | loss:    0.315\n",
            "| Epoch   4 |  4000/5400   batches | loss:    0.370\n",
            "| Epoch   4 |  4200/5400   batches | loss:    0.364\n",
            "| Epoch   4 |  4400/5400   batches | loss:    0.349\n",
            "| Epoch   4 |  4600/5400   batches | loss:    0.365\n",
            "| Epoch   4 |  4800/5400   batches | loss:    0.345\n",
            "| Epoch   4 |  5000/5400   batches | loss:    0.328\n",
            "| Epoch   4 |  5200/5400   batches | loss:    0.322\n",
            "| Epoch   4 |  5400/5400   batches | loss:    0.302\n",
            "| Validation Epoch   4 | Avg-Val Loss: 0.34244635701179504\n",
            "| Epoch   5 |   200/5400   batches | loss:    0.354\n",
            "| Epoch   5 |   400/5400   batches | loss:    0.332\n",
            "| Epoch   5 |   600/5400   batches | loss:    0.344\n",
            "| Epoch   5 |   800/5400   batches | loss:    0.298\n",
            "| Epoch   5 |  1000/5400   batches | loss:    0.343\n",
            "| Epoch   5 |  1200/5400   batches | loss:    0.365\n",
            "| Epoch   5 |  1400/5400   batches | loss:    0.352\n",
            "| Epoch   5 |  1600/5400   batches | loss:    0.317\n",
            "| Epoch   5 |  1800/5400   batches | loss:    0.334\n",
            "| Epoch   5 |  2000/5400   batches | loss:    0.322\n",
            "| Epoch   5 |  2200/5400   batches | loss:    0.316\n",
            "| Epoch   5 |  2400/5400   batches | loss:    0.384\n",
            "| Epoch   5 |  2600/5400   batches | loss:    0.338\n",
            "| Epoch   5 |  2800/5400   batches | loss:    0.348\n",
            "| Epoch   5 |  3000/5400   batches | loss:    0.347\n",
            "| Epoch   5 |  3200/5400   batches | loss:    0.295\n",
            "| Epoch   5 |  3400/5400   batches | loss:    0.306\n",
            "| Epoch   5 |  3600/5400   batches | loss:    0.387\n",
            "| Epoch   5 |  3800/5400   batches | loss:    0.314\n",
            "| Epoch   5 |  4000/5400   batches | loss:    0.369\n",
            "| Epoch   5 |  4200/5400   batches | loss:    0.363\n",
            "| Epoch   5 |  4400/5400   batches | loss:    0.347\n",
            "| Epoch   5 |  4600/5400   batches | loss:    0.363\n",
            "| Epoch   5 |  4800/5400   batches | loss:    0.343\n",
            "| Epoch   5 |  5000/5400   batches | loss:    0.326\n",
            "| Epoch   5 |  5200/5400   batches | loss:    0.321\n",
            "| Epoch   5 |  5400/5400   batches | loss:    0.301\n",
            "| Validation Epoch   5 | Avg-Val Loss: 0.3411494791507721\n"
          ]
        }
      ]
    },
    {
      "cell_type": "markdown",
      "source": [
        "## 6.4 Plot Training Loss\n",
        "- Plot the detailed train loss and the train-val loss with epochs."
      ],
      "metadata": {
        "id": "Wa5GGylGfGZr"
      }
    },
    {
      "cell_type": "code",
      "source": [
        "plt.figure(figsize=(15, 5))\n",
        "plt.subplot(1, 2, 1)\n",
        "\n",
        "epovec = range(len(t_loss_in_batches))\n",
        "plt.plot(epovec, t_loss_in_batches, linewidth=1)\n",
        "# annotations:\n",
        "plt.title(\"Training Loss\")\n",
        "plt.xlabel(\"Steps\")\n",
        "plt.ylabel(\"Train Loss\")\n",
        "# plt.show()\n",
        "\n",
        "# plot_train_loss(t_loss_in_batches, plt)\n",
        "plt.subplot(1, 2, 2)\n",
        "# plt.figure(figsize=(5,5))\n",
        "epovec = range(len(t_loss))\n",
        "plt.plot(epovec, t_loss, epovec, v_loss, linewidth=1)\n",
        "plt.legend(('Train Loss', 'Validiation Loss'))\n",
        "\n",
        "# annotations:\n",
        "plt.title(\"Training and Validation Loss\")\n",
        "plt.xlabel(\"Epoch\")\n",
        "plt.ylabel(\"Loss\")\n",
        "plt.show()"
      ],
      "metadata": {
        "id": "DHpvBrQfZfPK",
        "colab": {
          "base_uri": "https://localhost:8080/",
          "height": 345
        },
        "outputId": "601d7a8b-0a4b-411b-8989-b79621c28ed8"
      },
      "execution_count": null,
      "outputs": [
        {
          "output_type": "display_data",
          "data": {
            "text/plain": [
              "<Figure size 1080x360 with 2 Axes>"
            ],
            "image/png": "[encoded data removed]"
          },
          "metadata": {}
        }
      ]
    },
    {
      "cell_type": "markdown",
      "source": [
        "## 7. Test"
      ],
      "metadata": {
        "id": "jLIy8OSlfQMy"
      }
    },
    {
      "cell_type": "markdown",
      "source": [
        "### 7.1 Test Function\n",
        "- In test function, different from training process, we do not divide\n",
        "the singe trajectory into different samples.\n",
        "In contrast, we get the ground truth and predicted trajectories directly.\n",
        "Then we use three matrics which called ADE, FDE and missRate to\n",
        "evaluate the results."
      ],
      "metadata": {
        "id": "KoFodUdTfWyl"
      }
    },
    {
      "cell_type": "code",
      "source": [
        "def test_func(model, trajectory, SEQ_LENGTH, PREDICTED_LENGTH):\n",
        "    # get trajectories contrains x, y, (speed, acceleration, heading rate)\n",
        "    traj_with_xyvar = []\n",
        "    traj_with_xy = []\n",
        "    for tra in trajectory:\n",
        "        traj_with_xyvar.append(tra[2:7])\n",
        "        traj_with_xy.append(tra[2:4])\n",
        "\n",
        "    # scale the data\n",
        "    # test data with x, y, speed, acceleration, heading rate\n",
        "    scaler = MinMaxScaler(feature_range=(-1, 1))\n",
        "    xyvar = scaler.fit_transform(traj_with_xyvar)\n",
        "\n",
        "    # test data with x, y, speed, acceleration, heading rate\n",
        "    scaler_new = MinMaxScaler(feature_range=(-1, 1))\n",
        "    xy_new = scaler_new.fit_transform(traj_with_xy)\n",
        "\n",
        "    # get the x, y, speed, acceleration, heading rate respectively, shape: [m, 1]\n",
        "    x_s, y_s, v_s, a_s, r_s = xyvar[:, 0], xyvar[:,\n",
        "                                                 1], xyvar[:, 2], xyvar[:, 3], xyvar[:, 4]\n",
        "\n",
        "    # get the x, y ground truth of x, y\n",
        "    # and speed, acceleration, heading rate as the test data to the model\n",
        "    x, expected_x = [x_s[0:SEQ_LENGTH]\n",
        "                     ], x_s[SEQ_LENGTH:SEQ_LENGTH + PREDICTED_LENGTH]\n",
        "    y, expected_y = [y_s[0:SEQ_LENGTH]\n",
        "                     ], y_s[SEQ_LENGTH:SEQ_LENGTH + PREDICTED_LENGTH]\n",
        "    v = [v_s[0:SEQ_LENGTH]]\n",
        "    a = [a_s[0:SEQ_LENGTH]]\n",
        "    r = [r_s[0:SEQ_LENGTH]]\n",
        "\n",
        "    original_x, original_y = x_s[:SEQ_LENGTH], y_s[:SEQ_LENGTH]  # [8, 1]\n",
        "\n",
        "    # convert datat to tensor and change the shape, shape: [1, 8, 1]\n",
        "    dataX, dataY = reshape_data_2(x), reshape_data_2(y)\n",
        "    dataV = reshape_data_2(v)\n",
        "    dataA = reshape_data_2(a)\n",
        "    dataR = reshape_data_2(r)\n",
        "\n",
        "    # return origin x, y and ground truth for plot\n",
        "    # origin data\n",
        "    original_x = reshape_data_1(original_x)\n",
        "    original_y = reshape_data_1(original_y)  # [8 ,1]\n",
        "    original_xy = torch.cat([original_x, original_y], dim=1)  # [8, 2]\n",
        "    data_original = scaler_new.inverse_transform(original_xy)  # [8, 2]\n",
        "    # ground truth\n",
        "    expected_x = reshape_data_1(expected_x)\n",
        "    expected_y = reshape_data_1(expected_y)  # [m, 10, 1]\n",
        "    ground_truth_xy = torch.cat([expected_x, expected_y], dim=1)  # [10, 2]\n",
        "    data_expected = scaler_new.inverse_transform(ground_truth_xy)  # [10, 2]\n",
        "\n",
        "    # eval\n",
        "    model.eval()\n",
        "\n",
        "    with torch.no_grad():\n",
        "        # cat trjectories data with x, y, speed, acceleration, heading rate to test\n",
        "        cat_data = torch.cat(\n",
        "            [dataX, dataY, dataV, dataA, dataR], dim=2)  # [m, 8, 5]\n",
        "        cat_data = cat_data.to(device)\n",
        "        # test model\n",
        "        output_x, output_y = model(cat_data)  # [m, 10, 1]\n",
        "\n",
        "        # concat output\n",
        "        output = torch.cat([output_x, output_y],\n",
        "                           dim=2).cpu().data  # [m, 10, 2]\n",
        "        output = torch.reshape(output, [output.shape[1], output.shape[2]])\n",
        "\n",
        "        # predicted data\n",
        "        predicted_data = scaler_new.inverse_transform(output)  # [m, 10, 2]\n",
        "\n",
        "    return predicted_data, data_expected, data_original"
      ],
      "metadata": {
        "id": "ed-hbgRzZfRf"
      },
      "execution_count": null,
      "outputs": []
    },
    {
      "cell_type": "markdown",
      "source": [
        "### 7.2 Metrics\n",
        "- ADE, FDE and missRate"
      ],
      "metadata": {
        "id": "MH4_2ikAfeY9"
      }
    },
    {
      "cell_type": "code",
      "source": [
        "p_one_mode = np.array([[1.]])\n",
        "\n",
        "\n",
        "def Metrics(lstm, test_data, SEQ_LENGTH, PREDICTED_LENGTH):\n",
        "    # initialization\n",
        "    avg_ade = 0\n",
        "    avg_fde = 0\n",
        "    avg_missRate = 0\n",
        "    length = len(test_data)\n",
        "    plot_data = []\n",
        "\n",
        "    # get predicted, origin and ground truth x, y\n",
        "    for tra in tqdm(test_data):\n",
        "        # clean nan\n",
        "        tra = clean_nan(tra)\n",
        "\n",
        "        # remove short trajectories\n",
        "        if len(tra) < 20:\n",
        "            length -= 1\n",
        "            continue\n",
        "        if tra[0][-1] == 0:\n",
        "            continue\n",
        "\n",
        "        # get predicted, origin and ground truth x, y from test function(model)\n",
        "        predicted_data, data_expected, data_original = test_func(\n",
        "            lstm, tra, SEQ_LENGTH, PREDICTED_LENGTH)\n",
        "\n",
        "        # collect trajectories data\n",
        "        plot_data.append([predicted_data, data_expected, data_original])\n",
        "\n",
        "        # convert the data to the nuscenes ade, fde, missRate function format\n",
        "        modes = data_expected.shape[0]\n",
        "        x_one_mode, y_one_mode = traj2modes(\n",
        "            predicted_data), traj2modes(data_expected)\n",
        "\n",
        "        # compute ade, fde and missRate with nuscenes metrics\n",
        "        ade = metrics.min_ade_k(x_one_mode, y_one_mode, p_one_mode)\n",
        "        fde = metrics.min_fde_k(x_one_mode, y_one_mode, p_one_mode)\n",
        "        missRate = metrics.miss_rate_top_k(\n",
        "            x_one_mode, y_one_mode, p_one_mode, 2)\n",
        "\n",
        "        # avg_ade, avg_fde and avg_missRate\n",
        "        avg_ade += ade\n",
        "        avg_fde += fde\n",
        "        avg_missRate += missRate\n",
        "\n",
        "    avg_ade = avg_ade / length\n",
        "    avg_fde = avg_fde / length\n",
        "    avg_missRate = 1 - avg_missRate / length\n",
        "    print()\n",
        "    print(\"avg_ade:\", avg_ade[0][0])\n",
        "    print(\"avg_fde:\", avg_fde[0][0])\n",
        "    print(\"avg_missRate:\", avg_missRate[0][0])\n",
        "\n",
        "    return plot_data, avg_ade, avg_fde, avg_missRate"
      ],
      "metadata": {
        "id": "pdkJKEvtZfTK"
      },
      "execution_count": null,
      "outputs": []
    },
    {
      "cell_type": "code",
      "source": [
        "plot_data, avg_ade, avg_fde, avg_missRate = Metrics(\n",
        "    cnn_lstm, test_data, SEQ_LENGTH, PREDICTED_LENGTH)"
      ],
      "metadata": {
        "id": "7IuPfoPGZfVD",
        "colab": {
          "base_uri": "https://localhost:8080/",
          "height": 122,
          "referenced_widgets": [
            "f44bedba5d884c69be6344a56a4e4e96",
            "d3344854bbb247009c33dbe1e42ac042",
            "d83ce7e5c0d442af835d76ce2fbad9b5",
            "ff56f90bed894c87ad9f515bb82f0903",
            "637f6010215e469096348b7576f1c606",
            "cd0bdfcc0ef24cba81367de8753a8985",
            "05ae45c433f84468855c72d32202da66",
            "6091a52d7a6f47dc981678d93c5d32b4",
            "0f8b782dba9c43c99257c380936a0fbe",
            "75509e29c98f4c09b76cfef47038ce2c",
            "e55c858948004da0b8a4c034c79433a9"
          ]
        },
        "outputId": "73a14454-9cd3-4e09-e453-6a905d38f893"
      },
      "execution_count": null,
      "outputs": [
        {
          "output_type": "display_data",
          "data": {
            "text/plain": [
              "  0%|          | 0/3501 [00:00<?, ?it/s]"
            ],
            "application/vnd.jupyter.widget-view+json": {
              "version_major": 2,
              "version_minor": 0,
              "model_id": "f44bedba5d884c69be6344a56a4e4e96"
            }
          },
          "metadata": {}
        },
        {
          "output_type": "stream",
          "name": "stdout",
          "text": [
            "\n",
            "avg_ade: 1.320634407368731\n",
            "avg_fde: 2.418540712945231\n",
            "avg_missRate: 0.7409948542024014\n"
          ]
        }
      ]
    }
  ]
}