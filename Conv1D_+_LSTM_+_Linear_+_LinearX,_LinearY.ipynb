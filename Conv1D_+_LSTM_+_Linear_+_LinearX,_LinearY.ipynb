{
  "nbformat": 4,
  "nbformat_minor": 0,
  "metadata": {
    "colab": {
      "provenance": [],
      "collapsed_sections": []
    },
    "kernelspec": {
      "name": "python3",
      "display_name": "Python 3"
    },
    "language_info": {
      "name": "python"
    },
    "gpuClass": "standard",
    "widgets": {
      "application/vnd.jupyter.widget-state+json": {
        "e20021ca41664a129f55a8e16d5726ae": {
          "model_module": "@jupyter-widgets/controls",
          "model_name": "HBoxModel",
          "model_module_version": "1.5.0",
          "state": {
            "_dom_classes": [],
            "_model_module": "@jupyter-widgets/controls",
            "_model_module_version": "1.5.0",
            "_model_name": "HBoxModel",
            "_view_count": null,
            "_view_module": "@jupyter-widgets/controls",
            "_view_module_version": "1.5.0",
            "_view_name": "HBoxView",
            "box_style": "",
            "children": [
              "IPY_MODEL_20fb2f6a89054c63bd7d1c452c8266fb",
              "IPY_MODEL_5bc4105b944f4a06a31e417c8c6cf137",
              "IPY_MODEL_89eceb373d324d64b94c30d89a7bf305"
            ],
            "layout": "IPY_MODEL_1b85593ae8a44d48a7234e739bc73a48"
          }
        },
        "20fb2f6a89054c63bd7d1c452c8266fb": {
          "model_module": "@jupyter-widgets/controls",
          "model_name": "HTMLModel",
          "model_module_version": "1.5.0",
          "state": {
            "_dom_classes": [],
            "_model_module": "@jupyter-widgets/controls",
            "_model_module_version": "1.5.0",
            "_model_name": "HTMLModel",
            "_view_count": null,
            "_view_module": "@jupyter-widgets/controls",
            "_view_module_version": "1.5.0",
            "_view_name": "HTMLView",
            "description": "",
            "description_tooltip": null,
            "layout": "IPY_MODEL_08410d82b037448f87fa9dba7a184c7a",
            "placeholder": "​",
            "style": "IPY_MODEL_654004995ca24d44814c00f0fe795f9b",
            "value": "100%"
          }
        },
        "5bc4105b944f4a06a31e417c8c6cf137": {
          "model_module": "@jupyter-widgets/controls",
          "model_name": "FloatProgressModel",
          "model_module_version": "1.5.0",
          "state": {
            "_dom_classes": [],
            "_model_module": "@jupyter-widgets/controls",
            "_model_module_version": "1.5.0",
            "_model_name": "FloatProgressModel",
            "_view_count": null,
            "_view_module": "@jupyter-widgets/controls",
            "_view_module_version": "1.5.0",
            "_view_name": "ProgressView",
            "bar_style": "success",
            "description": "",
            "description_tooltip": null,
            "layout": "IPY_MODEL_74b40ef11c2c4a9680c656e5214b6ff8",
            "max": 3501,
            "min": 0,
            "orientation": "horizontal",
            "style": "IPY_MODEL_1eeff5d9a3b5419ea803676616230de9",
            "value": 3501
          }
        },
        "89eceb373d324d64b94c30d89a7bf305": {
          "model_module": "@jupyter-widgets/controls",
          "model_name": "HTMLModel",
          "model_module_version": "1.5.0",
          "state": {
            "_dom_classes": [],
            "_model_module": "@jupyter-widgets/controls",
            "_model_module_version": "1.5.0",
            "_model_name": "HTMLModel",
            "_view_count": null,
            "_view_module": "@jupyter-widgets/controls",
            "_view_module_version": "1.5.0",
            "_view_name": "HTMLView",
            "description": "",
            "description_tooltip": null,
            "layout": "IPY_MODEL_2f676cb5f393445487dde5bb3e79460b",
            "placeholder": "​",
            "style": "IPY_MODEL_9284833b94764aa1820d5702a01b9a62",
            "value": " 3501/3501 [00:04&lt;00:00, 837.50it/s]"
          }
        },
        "1b85593ae8a44d48a7234e739bc73a48": {
          "model_module": "@jupyter-widgets/base",
          "model_name": "LayoutModel",
          "model_module_version": "1.2.0",
          "state": {
            "_model_module": "@jupyter-widgets/base",
            "_model_module_version": "1.2.0",
            "_model_name": "LayoutModel",
            "_view_count": null,
            "_view_module": "@jupyter-widgets/base",
            "_view_module_version": "1.2.0",
            "_view_name": "LayoutView",
            "align_content": null,
            "align_items": null,
            "align_self": null,
            "border": null,
            "bottom": null,
            "display": null,
            "flex": null,
            "flex_flow": null,
            "grid_area": null,
            "grid_auto_columns": null,
            "grid_auto_flow": null,
            "grid_auto_rows": null,
            "grid_column": null,
            "grid_gap": null,
            "grid_row": null,
            "grid_template_areas": null,
            "grid_template_columns": null,
            "grid_template_rows": null,
            "height": null,
            "justify_content": null,
            "justify_items": null,
            "left": null,
            "margin": null,
            "max_height": null,
            "max_width": null,
            "min_height": null,
            "min_width": null,
            "object_fit": null,
            "object_position": null,
            "order": null,
            "overflow": null,
            "overflow_x": null,
            "overflow_y": null,
            "padding": null,
            "right": null,
            "top": null,
            "visibility": null,
            "width": null
          }
        },
        "08410d82b037448f87fa9dba7a184c7a": {
          "model_module": "@jupyter-widgets/base",
          "model_name": "LayoutModel",
          "model_module_version": "1.2.0",
          "state": {
            "_model_module": "@jupyter-widgets/base",
            "_model_module_version": "1.2.0",
            "_model_name": "LayoutModel",
            "_view_count": null,
            "_view_module": "@jupyter-widgets/base",
            "_view_module_version": "1.2.0",
            "_view_name": "LayoutView",
            "align_content": null,
            "align_items": null,
            "align_self": null,
            "border": null,
            "bottom": null,
            "display": null,
            "flex": null,
            "flex_flow": null,
            "grid_area": null,
            "grid_auto_columns": null,
            "grid_auto_flow": null,
            "grid_auto_rows": null,
            "grid_column": null,
            "grid_gap": null,
            "grid_row": null,
            "grid_template_areas": null,
            "grid_template_columns": null,
            "grid_template_rows": null,
            "height": null,
            "justify_content": null,
            "justify_items": null,
            "left": null,
            "margin": null,
            "max_height": null,
            "max_width": null,
            "min_height": null,
            "min_width": null,
            "object_fit": null,
            "object_position": null,
            "order": null,
            "overflow": null,
            "overflow_x": null,
            "overflow_y": null,
            "padding": null,
            "right": null,
            "top": null,
            "visibility": null,
            "width": null
          }
        },
        "654004995ca24d44814c00f0fe795f9b": {
          "model_module": "@jupyter-widgets/controls",
          "model_name": "DescriptionStyleModel",
          "model_module_version": "1.5.0",
          "state": {
            "_model_module": "@jupyter-widgets/controls",
            "_model_module_version": "1.5.0",
            "_model_name": "DescriptionStyleModel",
            "_view_count": null,
            "_view_module": "@jupyter-widgets/base",
            "_view_module_version": "1.2.0",
            "_view_name": "StyleView",
            "description_width": ""
          }
        },
        "74b40ef11c2c4a9680c656e5214b6ff8": {
          "model_module": "@jupyter-widgets/base",
          "model_name": "LayoutModel",
          "model_module_version": "1.2.0",
          "state": {
            "_model_module": "@jupyter-widgets/base",
            "_model_module_version": "1.2.0",
            "_model_name": "LayoutModel",
            "_view_count": null,
            "_view_module": "@jupyter-widgets/base",
            "_view_module_version": "1.2.0",
            "_view_name": "LayoutView",
            "align_content": null,
            "align_items": null,
            "align_self": null,
            "border": null,
            "bottom": null,
            "display": null,
            "flex": null,
            "flex_flow": null,
            "grid_area": null,
            "grid_auto_columns": null,
            "grid_auto_flow": null,
            "grid_auto_rows": null,
            "grid_column": null,
            "grid_gap": null,
            "grid_row": null,
            "grid_template_areas": null,
            "grid_template_columns": null,
            "grid_template_rows": null,
            "height": null,
            "justify_content": null,
            "justify_items": null,
            "left": null,
            "margin": null,
            "max_height": null,
            "max_width": null,
            "min_height": null,
            "min_width": null,
            "object_fit": null,
            "object_position": null,
            "order": null,
            "overflow": null,
            "overflow_x": null,
            "overflow_y": null,
            "padding": null,
            "right": null,
            "top": null,
            "visibility": null,
            "width": null
          }
        },
        "1eeff5d9a3b5419ea803676616230de9": {
          "model_module": "@jupyter-widgets/controls",
          "model_name": "ProgressStyleModel",
          "model_module_version": "1.5.0",
          "state": {
            "_model_module": "@jupyter-widgets/controls",
            "_model_module_version": "1.5.0",
            "_model_name": "ProgressStyleModel",
            "_view_count": null,
            "_view_module": "@jupyter-widgets/base",
            "_view_module_version": "1.2.0",
            "_view_name": "StyleView",
            "bar_color": null,
            "description_width": ""
          }
        },
        "2f676cb5f393445487dde5bb3e79460b": {
          "model_module": "@jupyter-widgets/base",
          "model_name": "LayoutModel",
          "model_module_version": "1.2.0",
          "state": {
            "_model_module": "@jupyter-widgets/base",
            "_model_module_version": "1.2.0",
            "_model_name": "LayoutModel",
            "_view_count": null,
            "_view_module": "@jupyter-widgets/base",
            "_view_module_version": "1.2.0",
            "_view_name": "LayoutView",
            "align_content": null,
            "align_items": null,
            "align_self": null,
            "border": null,
            "bottom": null,
            "display": null,
            "flex": null,
            "flex_flow": null,
            "grid_area": null,
            "grid_auto_columns": null,
            "grid_auto_flow": null,
            "grid_auto_rows": null,
            "grid_column": null,
            "grid_gap": null,
            "grid_row": null,
            "grid_template_areas": null,
            "grid_template_columns": null,
            "grid_template_rows": null,
            "height": null,
            "justify_content": null,
            "justify_items": null,
            "left": null,
            "margin": null,
            "max_height": null,
            "max_width": null,
            "min_height": null,
            "min_width": null,
            "object_fit": null,
            "object_position": null,
            "order": null,
            "overflow": null,
            "overflow_x": null,
            "overflow_y": null,
            "padding": null,
            "right": null,
            "top": null,
            "visibility": null,
            "width": null
          }
        },
        "9284833b94764aa1820d5702a01b9a62": {
          "model_module": "@jupyter-widgets/controls",
          "model_name": "DescriptionStyleModel",
          "model_module_version": "1.5.0",
          "state": {
            "_model_module": "@jupyter-widgets/controls",
            "_model_module_version": "1.5.0",
            "_model_name": "DescriptionStyleModel",
            "_view_count": null,
            "_view_module": "@jupyter-widgets/base",
            "_view_module_version": "1.2.0",
            "_view_name": "StyleView",
            "description_width": ""
          }
        }
      }
    }
  },
  "cells": [
    {
      "cell_type": "markdown",
      "source": [
        "# Conv1D + LSTM + Linear + LinearX, LinearY"
      ],
      "metadata": {
        "id": "PaCDGoifda_x"
      }
    },
    {
      "cell_type": "markdown",
      "source": [
        "# Import"
      ],
      "metadata": {
        "id": "g2GVfcHydc4e"
      }
    },
    {
      "cell_type": "code",
      "source": [
        "from google.colab import drive\n",
        "drive.mount('/content/drive/')"
      ],
      "metadata": {
        "colab": {
          "base_uri": "https://localhost:8080/"
        },
        "id": "fFbsRDi9C7dp",
        "outputId": "8a5f2ba7-083f-4c2f-8736-8cbc9883edfb"
      },
      "execution_count": null,
      "outputs": [
        {
          "output_type": "stream",
          "name": "stdout",
          "text": [
            "Drive already mounted at /content/drive/; to attempt to forcibly remount, call drive.mount(\"/content/drive/\", force_remount=True).\n"
          ]
        }
      ]
    },
    {
      "cell_type": "code",
      "execution_count": null,
      "metadata": {
        "id": "CE4LZbICUI3g",
        "colab": {
          "base_uri": "https://localhost:8080/"
        },
        "outputId": "8965641a-8d16-4d2f-8665-a7aa5b897c5b"
      },
      "outputs": [
        {
          "output_type": "stream",
          "name": "stdout",
          "text": [
            "Looking in indexes: https://pypi.org/simple, https://us-python.pkg.dev/colab-wheels/public/simple/\n",
            "Requirement already satisfied: nuscenes-devkit in /usr/local/lib/python3.7/dist-packages (1.1.9)\n",
            "Requirement already satisfied: Pillow>6.2.1 in /usr/local/lib/python3.7/dist-packages (from nuscenes-devkit) (7.1.2)\n",
            "Requirement already satisfied: jupyter in /usr/local/lib/python3.7/dist-packages (from nuscenes-devkit) (1.0.0)\n",
            "Requirement already satisfied: tqdm in /usr/local/lib/python3.7/dist-packages (from nuscenes-devkit) (4.64.0)\n",
            "Requirement already satisfied: fire in /usr/local/lib/python3.7/dist-packages (from nuscenes-devkit) (0.4.0)\n",
            "Requirement already satisfied: pycocotools>=2.0.1 in /usr/local/lib/python3.7/dist-packages (from nuscenes-devkit) (2.0.4)\n",
            "Requirement already satisfied: pyquaternion>=0.9.5 in /usr/local/lib/python3.7/dist-packages (from nuscenes-devkit) (0.9.9)\n",
            "Requirement already satisfied: Shapely in /usr/local/lib/python3.7/dist-packages (from nuscenes-devkit) (1.8.2)\n",
            "Requirement already satisfied: scipy in /usr/local/lib/python3.7/dist-packages (from nuscenes-devkit) (1.7.3)\n",
            "Requirement already satisfied: descartes in /usr/local/lib/python3.7/dist-packages (from nuscenes-devkit) (1.1.0)\n",
            "Requirement already satisfied: opencv-python in /usr/local/lib/python3.7/dist-packages (from nuscenes-devkit) (4.6.0.66)\n",
            "Requirement already satisfied: matplotlib in /usr/local/lib/python3.7/dist-packages (from nuscenes-devkit) (3.2.2)\n",
            "Requirement already satisfied: scikit-learn in /usr/local/lib/python3.7/dist-packages (from nuscenes-devkit) (1.0.2)\n",
            "Requirement already satisfied: cachetools in /usr/local/lib/python3.7/dist-packages (from nuscenes-devkit) (4.2.4)\n",
            "Requirement already satisfied: numpy in /usr/local/lib/python3.7/dist-packages (from nuscenes-devkit) (1.21.6)\n",
            "Requirement already satisfied: kiwisolver>=1.0.1 in /usr/local/lib/python3.7/dist-packages (from matplotlib->nuscenes-devkit) (1.4.4)\n",
            "Requirement already satisfied: cycler>=0.10 in /usr/local/lib/python3.7/dist-packages (from matplotlib->nuscenes-devkit) (0.11.0)\n",
            "Requirement already satisfied: pyparsing!=2.0.4,!=2.1.2,!=2.1.6,>=2.0.1 in /usr/local/lib/python3.7/dist-packages (from matplotlib->nuscenes-devkit) (3.0.9)\n",
            "Requirement already satisfied: python-dateutil>=2.1 in /usr/local/lib/python3.7/dist-packages (from matplotlib->nuscenes-devkit) (2.8.2)\n",
            "Requirement already satisfied: typing-extensions in /usr/local/lib/python3.7/dist-packages (from kiwisolver>=1.0.1->matplotlib->nuscenes-devkit) (4.1.1)\n",
            "Requirement already satisfied: six>=1.5 in /usr/local/lib/python3.7/dist-packages (from python-dateutil>=2.1->matplotlib->nuscenes-devkit) (1.15.0)\n",
            "Requirement already satisfied: termcolor in /usr/local/lib/python3.7/dist-packages (from fire->nuscenes-devkit) (1.1.0)\n",
            "Requirement already satisfied: jupyter-console in /usr/local/lib/python3.7/dist-packages (from jupyter->nuscenes-devkit) (5.2.0)\n",
            "Requirement already satisfied: nbconvert in /usr/local/lib/python3.7/dist-packages (from jupyter->nuscenes-devkit) (5.6.1)\n",
            "Requirement already satisfied: notebook in /usr/local/lib/python3.7/dist-packages (from jupyter->nuscenes-devkit) (5.3.1)\n",
            "Requirement already satisfied: ipykernel in /usr/local/lib/python3.7/dist-packages (from jupyter->nuscenes-devkit) (4.10.1)\n",
            "Requirement already satisfied: qtconsole in /usr/local/lib/python3.7/dist-packages (from jupyter->nuscenes-devkit) (5.3.1)\n",
            "Requirement already satisfied: ipywidgets in /usr/local/lib/python3.7/dist-packages (from jupyter->nuscenes-devkit) (7.7.1)\n",
            "Requirement already satisfied: tornado>=4.0 in /usr/local/lib/python3.7/dist-packages (from ipykernel->jupyter->nuscenes-devkit) (5.1.1)\n",
            "Requirement already satisfied: traitlets>=4.1.0 in /usr/local/lib/python3.7/dist-packages (from ipykernel->jupyter->nuscenes-devkit) (5.1.1)\n",
            "Requirement already satisfied: ipython>=4.0.0 in /usr/local/lib/python3.7/dist-packages (from ipykernel->jupyter->nuscenes-devkit) (5.5.0)\n",
            "Requirement already satisfied: jupyter-client in /usr/local/lib/python3.7/dist-packages (from ipykernel->jupyter->nuscenes-devkit) (5.3.5)\n",
            "Requirement already satisfied: pexpect in /usr/local/lib/python3.7/dist-packages (from ipython>=4.0.0->ipykernel->jupyter->nuscenes-devkit) (4.8.0)\n",
            "Requirement already satisfied: pickleshare in /usr/local/lib/python3.7/dist-packages (from ipython>=4.0.0->ipykernel->jupyter->nuscenes-devkit) (0.7.5)\n",
            "Requirement already satisfied: setuptools>=18.5 in /usr/local/lib/python3.7/dist-packages (from ipython>=4.0.0->ipykernel->jupyter->nuscenes-devkit) (57.4.0)\n",
            "Requirement already satisfied: simplegeneric>0.8 in /usr/local/lib/python3.7/dist-packages (from ipython>=4.0.0->ipykernel->jupyter->nuscenes-devkit) (0.8.1)\n",
            "Requirement already satisfied: prompt-toolkit<2.0.0,>=1.0.4 in /usr/local/lib/python3.7/dist-packages (from ipython>=4.0.0->ipykernel->jupyter->nuscenes-devkit) (1.0.18)\n",
            "Requirement already satisfied: decorator in /usr/local/lib/python3.7/dist-packages (from ipython>=4.0.0->ipykernel->jupyter->nuscenes-devkit) (4.4.2)\n",
            "Requirement already satisfied: pygments in /usr/local/lib/python3.7/dist-packages (from ipython>=4.0.0->ipykernel->jupyter->nuscenes-devkit) (2.6.1)\n",
            "Requirement already satisfied: wcwidth in /usr/local/lib/python3.7/dist-packages (from prompt-toolkit<2.0.0,>=1.0.4->ipython>=4.0.0->ipykernel->jupyter->nuscenes-devkit) (0.2.5)\n",
            "Requirement already satisfied: widgetsnbextension~=3.6.0 in /usr/local/lib/python3.7/dist-packages (from ipywidgets->jupyter->nuscenes-devkit) (3.6.1)\n",
            "Requirement already satisfied: ipython-genutils~=0.2.0 in /usr/local/lib/python3.7/dist-packages (from ipywidgets->jupyter->nuscenes-devkit) (0.2.0)\n",
            "Requirement already satisfied: jupyterlab-widgets>=1.0.0 in /usr/local/lib/python3.7/dist-packages (from ipywidgets->jupyter->nuscenes-devkit) (1.1.1)\n",
            "Requirement already satisfied: terminado>=0.8.1 in /usr/local/lib/python3.7/dist-packages (from notebook->jupyter->nuscenes-devkit) (0.13.3)\n",
            "Requirement already satisfied: nbformat in /usr/local/lib/python3.7/dist-packages (from notebook->jupyter->nuscenes-devkit) (5.4.0)\n",
            "Requirement already satisfied: Send2Trash in /usr/local/lib/python3.7/dist-packages (from notebook->jupyter->nuscenes-devkit) (1.8.0)\n",
            "Requirement already satisfied: jinja2 in /usr/local/lib/python3.7/dist-packages (from notebook->jupyter->nuscenes-devkit) (2.11.3)\n",
            "Requirement already satisfied: jupyter-core>=4.4.0 in /usr/local/lib/python3.7/dist-packages (from notebook->jupyter->nuscenes-devkit) (4.11.1)\n",
            "Requirement already satisfied: pyzmq>=13 in /usr/local/lib/python3.7/dist-packages (from jupyter-client->ipykernel->jupyter->nuscenes-devkit) (23.2.0)\n",
            "Requirement already satisfied: ptyprocess in /usr/local/lib/python3.7/dist-packages (from terminado>=0.8.1->notebook->jupyter->nuscenes-devkit) (0.7.0)\n",
            "Requirement already satisfied: MarkupSafe>=0.23 in /usr/local/lib/python3.7/dist-packages (from jinja2->notebook->jupyter->nuscenes-devkit) (2.0.1)\n",
            "Requirement already satisfied: testpath in /usr/local/lib/python3.7/dist-packages (from nbconvert->jupyter->nuscenes-devkit) (0.6.0)\n",
            "Requirement already satisfied: defusedxml in /usr/local/lib/python3.7/dist-packages (from nbconvert->jupyter->nuscenes-devkit) (0.7.1)\n",
            "Requirement already satisfied: mistune<2,>=0.8.1 in /usr/local/lib/python3.7/dist-packages (from nbconvert->jupyter->nuscenes-devkit) (0.8.4)\n",
            "Requirement already satisfied: entrypoints>=0.2.2 in /usr/local/lib/python3.7/dist-packages (from nbconvert->jupyter->nuscenes-devkit) (0.4)\n",
            "Requirement already satisfied: bleach in /usr/local/lib/python3.7/dist-packages (from nbconvert->jupyter->nuscenes-devkit) (5.0.1)\n",
            "Requirement already satisfied: pandocfilters>=1.4.1 in /usr/local/lib/python3.7/dist-packages (from nbconvert->jupyter->nuscenes-devkit) (1.5.0)\n",
            "Requirement already satisfied: jsonschema>=2.6 in /usr/local/lib/python3.7/dist-packages (from nbformat->notebook->jupyter->nuscenes-devkit) (4.3.3)\n",
            "Requirement already satisfied: fastjsonschema in /usr/local/lib/python3.7/dist-packages (from nbformat->notebook->jupyter->nuscenes-devkit) (2.16.1)\n",
            "Requirement already satisfied: attrs>=17.4.0 in /usr/local/lib/python3.7/dist-packages (from jsonschema>=2.6->nbformat->notebook->jupyter->nuscenes-devkit) (22.1.0)\n",
            "Requirement already satisfied: importlib-metadata in /usr/local/lib/python3.7/dist-packages (from jsonschema>=2.6->nbformat->notebook->jupyter->nuscenes-devkit) (4.12.0)\n",
            "Requirement already satisfied: importlib-resources>=1.4.0 in /usr/local/lib/python3.7/dist-packages (from jsonschema>=2.6->nbformat->notebook->jupyter->nuscenes-devkit) (5.9.0)\n",
            "Requirement already satisfied: pyrsistent!=0.17.0,!=0.17.1,!=0.17.2,>=0.14.0 in /usr/local/lib/python3.7/dist-packages (from jsonschema>=2.6->nbformat->notebook->jupyter->nuscenes-devkit) (0.18.1)\n",
            "Requirement already satisfied: zipp>=3.1.0 in /usr/local/lib/python3.7/dist-packages (from importlib-resources>=1.4.0->jsonschema>=2.6->nbformat->notebook->jupyter->nuscenes-devkit) (3.8.1)\n",
            "Requirement already satisfied: webencodings in /usr/local/lib/python3.7/dist-packages (from bleach->nbconvert->jupyter->nuscenes-devkit) (0.5.1)\n",
            "Requirement already satisfied: qtpy>=2.0.1 in /usr/local/lib/python3.7/dist-packages (from qtconsole->jupyter->nuscenes-devkit) (2.1.0)\n",
            "Requirement already satisfied: packaging in /usr/local/lib/python3.7/dist-packages (from qtpy>=2.0.1->qtconsole->jupyter->nuscenes-devkit) (21.3)\n",
            "Requirement already satisfied: joblib>=0.11 in /usr/local/lib/python3.7/dist-packages (from scikit-learn->nuscenes-devkit) (1.1.0)\n",
            "Requirement already satisfied: threadpoolctl>=2.0.0 in /usr/local/lib/python3.7/dist-packages (from scikit-learn->nuscenes-devkit) (3.1.0)\n"
          ]
        }
      ],
      "source": [
        "# nuscenes-devkit tools \n",
        "!pip install nuscenes-devkit"
      ]
    },
    {
      "cell_type": "code",
      "source": [
        "# math\n",
        "import numpy as np\n",
        "import math\n",
        "\n",
        "# torch\n",
        "import torch\n",
        "import torch.nn as nn\n",
        "from torch.autograd import Variable\n",
        "\n",
        "# generic\n",
        "from sklearn.preprocessing import MinMaxScaler\n",
        "from tqdm.notebook import tqdm\n",
        "import gc\n",
        "\n",
        "# nuscenes\n",
        "import nuscenes\n",
        "from nuscenes.eval.prediction import metrics\n",
        "from nuscenes.prediction import PredictHelper\n",
        "\n",
        "# plot\n",
        "import matplotlib.pyplot as plt"
      ],
      "metadata": {
        "id": "rWKyHytKXwN4"
      },
      "execution_count": null,
      "outputs": []
    },
    {
      "cell_type": "markdown",
      "source": [
        "## 2. Using GPU"
      ],
      "metadata": {
        "id": "8zXI2jYdcTH6"
      }
    },
    {
      "cell_type": "code",
      "source": [
        "# Using GPU\n",
        "device = torch.device(\"cuda:0\" if torch.cuda.is_available() else \"cpu\")\n",
        "device"
      ],
      "metadata": {
        "id": "_vBR-xK0VGJ9",
        "colab": {
          "base_uri": "https://localhost:8080/"
        },
        "outputId": "ea0c67d9-fc5a-4834-93e3-a8b788fc58e6"
      },
      "execution_count": null,
      "outputs": [
        {
          "output_type": "execute_result",
          "data": {
            "text/plain": [
              "device(type='cpu')"
            ]
          },
          "metadata": {},
          "execution_count": 4
        }
      ]
    },
    {
      "cell_type": "markdown",
      "source": [
        "You can import the file \"np_trajectory_data_22_with_VAR.npy\" from [Link](https://drive.google.com/drive/folders/118Z18sWEg4CqHAhFcYmDqXvDj2qk4YtI?usp=sharing), it's the same with \"trajectory\" data in \"DL-Project.ipynb\" at code 3.3. Just for testing convenience \n",
        "\n",
        "`trajectory = get_trajectories(trajectory_data, uni_instance_ids)`\n",
        "\n",
        "\n",
        "`np.save('np_trajectory_data_22_with_VAR.npy', trajectory)\n",
        "`"
      ],
      "metadata": {
        "id": "JK4zoOib6LDG"
      }
    },
    {
      "cell_type": "code",
      "source": [
        "trajectory = np.load(\"/content/drive/MyDrive/DL_nuScenes/np_trajectory_data_22_with_VAR.npy\", allow_pickle=True)"
      ],
      "metadata": {
        "id": "TYysYiEBd0ad"
      },
      "execution_count": null,
      "outputs": []
    },
    {
      "cell_type": "code",
      "source": [
        "trajectory.shape"
      ],
      "metadata": {
        "colab": {
          "base_uri": "https://localhost:8080/"
        },
        "id": "ff9jtNsdd2A1",
        "outputId": "5bceaa87-23c7-40fe-fee5-cab01c24685f"
      },
      "execution_count": null,
      "outputs": [
        {
          "output_type": "execute_result",
          "data": {
            "text/plain": [
              "(17503,)"
            ]
          },
          "metadata": {},
          "execution_count": 6
        }
      ]
    },
    {
      "cell_type": "markdown",
      "source": [
        "### 3 Spliting Datasets\n",
        "\n",
        "\n",
        "- Spliting the dataset:\n",
        "  - 60% as training data\n",
        "  - 20% as validation data\n",
        "  - 20% as test data"
      ],
      "metadata": {
        "id": "8M9CmuXbcxo0"
      }
    },
    {
      "cell_type": "code",
      "source": [
        "train_data = trajectory[0:int(len(trajectory) * 0.6)]\n",
        "val_data = trajectory[int(len(trajectory) * 0.6): int(len(trajectory) * 0.8)]\n",
        "test_data = trajectory[int(len(trajectory) * 0.8):]"
      ],
      "metadata": {
        "id": "vzO5fXC4Yz73"
      },
      "execution_count": null,
      "outputs": []
    },
    {
      "cell_type": "markdown",
      "source": [
        "## 4. Utils\n",
        "- Our tools\n",
        "\n"
      ],
      "metadata": {
        "id": "JJcW9kvYc7Km"
      }
    },
    {
      "cell_type": "code",
      "source": [
        "def sliding_window(data, SEQ_LENGTH):\n",
        "    \"\"\"using sliding window divide the single trajectory into several train samples\n",
        "    \"\"\"\n",
        "    origin_xs = []\n",
        "    expected_xs = []\n",
        "    for i in range(len(data) - SEQ_LENGTH - 11):\n",
        "        origin_x = data[i: (i + SEQ_LENGTH)]\n",
        "        expected_x = data[(i + SEQ_LENGTH): (i + SEQ_LENGTH + 12)]\n",
        "        origin_xs.append(origin_x)\n",
        "        expected_xs.append(expected_x)\n",
        "    return np.array(origin_xs), np.array(expected_xs)\n",
        "\n",
        "\n",
        "def reshape_data_1(x):\n",
        "    \"\"\"convert the data to tensor and reshape\n",
        "    \"\"\"\n",
        "    X = torch.tensor(np.array(x), dtype=torch.float32)\n",
        "    X = torch.reshape(X, (X.shape[0], 1))\n",
        "    return X\n",
        "\n",
        "\n",
        "def reshape_data_2(x):\n",
        "    \"\"\"convert the data to tensor and reshape\n",
        "    \"\"\"\n",
        "    X = torch.tensor(np.array(x), dtype=torch.float32)\n",
        "    X = torch.reshape(X, (X.shape[0], X.shape[1], 1))\n",
        "    return X\n",
        "\n",
        "\n",
        "def costruct_train_dataset(trajectory, SEQ_LENGTH):\n",
        "    \"\"\"contruct the train dataset\n",
        "    \"\"\"\n",
        "    tra = []\n",
        "    for t in trajectory:\n",
        "        tra.append(t[2:7])\n",
        "\n",
        "    # scaling data\n",
        "    scaler = MinMaxScaler(feature_range=(-1, 1))\n",
        "    xyvar = scaler.fit_transform(tra)\n",
        "\n",
        "    # get x, y, speed, accleration, heading rate\n",
        "    x, y, v, a, r = xyvar[:, 0], xyvar[:,\n",
        "                                       1], xyvar[:, 2], xyvar[:, 3], xyvar[:, 4]\n",
        "\n",
        "    # using sliding_window to get the train data\n",
        "    x, exp_x = sliding_window(x, SEQ_LENGTH)\n",
        "    y, exp_y = sliding_window(y, SEQ_LENGTH)\n",
        "    v, exp_v = sliding_window(v, SEQ_LENGTH)\n",
        "    a, exp_a = sliding_window(a, SEQ_LENGTH)\n",
        "    r, exp_r = sliding_window(r, SEQ_LENGTH)\n",
        "\n",
        "    # reshape x, y, ground x and y\n",
        "    dataX = reshape_data_2(x)\n",
        "    dataY = reshape_data_2(y)\n",
        "    exp_x = reshape_data_2(exp_x)\n",
        "    exp_y = reshape_data_2(exp_y)\n",
        "\n",
        "    # reshape speed, accleration, heading rate\n",
        "    dataV = reshape_data_2(v)\n",
        "    dataA = reshape_data_2(a)\n",
        "    dataR = reshape_data_2(r)\n",
        "    exp_v = reshape_data_2(exp_v)\n",
        "    exp_a = reshape_data_2(exp_a)\n",
        "    exp_r = reshape_data_2(exp_r)\n",
        "\n",
        "    return dataX, dataY, exp_x, exp_y, dataV, exp_v, dataA, exp_a, dataR, exp_r\n",
        "\n",
        "\n",
        "def clean_nan(tra):\n",
        "    \"\"\" Remove nan point\n",
        "    \"\"\"\n",
        "    tra_new = []\n",
        "    for t in tra:\n",
        "        if math.isnan(t[4]) or math.isnan(t[5]) or math.isnan(t[6]):\n",
        "            continue\n",
        "        else:\n",
        "            tra_new.append(t)\n",
        "    return tra_new\n",
        "\n",
        "\n",
        "def traj2modes(trajs):\n",
        "    \"\"\"Convert data type to numpy.array\n",
        "    \"\"\"\n",
        "    return np.array([trajs])"
      ],
      "metadata": {
        "id": "hZwNOAO_Yz9m"
      },
      "execution_count": null,
      "outputs": []
    },
    {
      "cell_type": "markdown",
      "source": [
        "### 5.6 Conv1D + LSTM + Linear + LinearX, LinearY\n",
        "- Keep the LSTM to extract the time sequence information.\n",
        "![5.png](data:image/png;base64,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)"
      ],
      "metadata": {
        "id": "-Tvi5iHseE1I"
      }
    },
    {
      "cell_type": "code",
      "source": [
        "class Model(nn.Module):\n",
        "\n",
        "    def __init__(self, input_size, hidden_size, num_layers):\n",
        "        '''\n",
        "        data: [batch, sequence, data]\n",
        "        '''\n",
        "        super(Model, self).__init__()\n",
        "        # model size\n",
        "        self.num_layers = num_layers\n",
        "        self.input_size = input_size\n",
        "        self.hidden_size = hidden_size\n",
        "\n",
        "        # layers\n",
        "        self.cnn = nn.Conv1d(5, 32, 3)\n",
        "        self.lstm = nn.LSTM(input_size=input_size, hidden_size=hidden_size,\n",
        "                            num_layers=num_layers, batch_first=True)\n",
        "\n",
        "        # dense\n",
        "        self.fc0 = nn.Linear(6 * 32, 24)\n",
        "        self.fcX = nn.Linear(24, 12)\n",
        "        self.fcY = nn.Linear(24, 12)\n",
        "        \n",
        "\n",
        "    def forward(self, data):\n",
        "        ''' \n",
        "        data: [b, 8, 5]\n",
        "        '''\n",
        "        # #[1, b, 64]\n",
        "        h_0 = Variable(torch.zeros(self.num_layers,\n",
        "                       data.size(0), self.hidden_size)).to(device)\n",
        "        c_0 = Variable(torch.zeros(self.num_layers,\n",
        "                       data.size(0), self.hidden_size)).to(device)\n",
        "\n",
        "        # Conv1d\n",
        "        # [b, 8, 5] -> [b, 5, 8]\n",
        "        data = torch.permute(data, (0, 2, 1))\n",
        "        # [b, 5, 8] -> [b, 32, 6]\n",
        "        data = self.cnn(data)\n",
        "\n",
        "\n",
        "        # [b, 32, 6] -> [b, 6, 32]\n",
        "        data = torch.permute(data, (0, 2, 1))\n",
        "        # LSTM\n",
        "        # [b, 6, 32] -> [b, 6, 32]\n",
        "        out, (_, _) = self.lstm(data, (h_0, c_0))\n",
        "\n",
        "        # Dense\n",
        "        # flatten [b, 6, 32] -> [b, 6*32]\n",
        "        out = torch.flatten(out, start_dim=1)\n",
        "        # [b, 6*32] -> [b, 24]\n",
        "        out = self.fc0(out)\n",
        "\n",
        "        # output\n",
        "        # [b, 24] -> [b, 12]\n",
        "        out_x = self.fcX(out)\n",
        "        # [b, 24] -> [b, 12]\n",
        "        out_y = self.fcY(out)\n",
        "        # [b, 12] -> [b, 12, 1]\n",
        "        out_x = torch.reshape(out_x, (out_x.shape[0], out_x.shape[1], 1))\n",
        "        # [b, 12] -> [b, 12, 1]\n",
        "        out_y = torch.reshape(out_y, (out_y.shape[0], out_y.shape[1], 1))\n",
        "\n",
        "        return out_x, out_y"
      ],
      "metadata": {
        "id": "YsA4Ec7WYz_X"
      },
      "execution_count": null,
      "outputs": []
    },
    {
      "cell_type": "markdown",
      "source": [
        "## 6.Training"
      ],
      "metadata": {
        "id": "t8zX2mx7eFJ-"
      }
    },
    {
      "cell_type": "markdown",
      "source": [
        "### 6.1 Train Function\n",
        "- In order to crop the data into the same shape and expand the \n",
        "training set data，we divide the single trajectory into several samples\n",
        "using silding window. \n",
        "\n",
        "- We chose the five features contain target x, y, speed, \n",
        "acceleration and heading rate as input feed to the model, \n",
        "and get the predicted (x, y) as output to Propagate loss.\n"
      ],
      "metadata": {
        "id": "1cJ7AEd-ee5z"
      }
    },
    {
      "cell_type": "code",
      "source": [
        "def train_func(trajectory, model, SEQ_LENGTH, epoch, optimizer, loss_func):\n",
        "    model.train()\n",
        "    Interval = 200\n",
        "    train_loss = 0\n",
        "    train_loss_in_batches = []\n",
        "    interval_loss = 0\n",
        "    i = 0\n",
        "\n",
        "    for tra in trajectory:\n",
        "        # clean nan\n",
        "        tra = clean_nan(tra)\n",
        "\n",
        "        # remove short trajectories\n",
        "        if len(tra) < 20 or tra[0][-1] == 0:\n",
        "            continue\n",
        "\n",
        "        # zero grad\n",
        "        optimizer.zero_grad()\n",
        "\n",
        "        # get trajectories\n",
        "        x, y, ex, ey, v, ev, a, ea, r, er = costruct_train_dataset(\n",
        "            tra, SEQ_LENGTH)\n",
        "\n",
        "        # cat train data\n",
        "        cat_data = torch.cat([x, y, v, a, r], dim=2)\n",
        "        cat_data = cat_data.to(device)\n",
        "\n",
        "        # lstm model\n",
        "        predicted_output_x, predicted_output_y = model(cat_data)\n",
        "\n",
        "        # loss\n",
        "        ex, ey = ex.to(device), ey.to(device)\n",
        "        loss_x = loss_func(predicted_output_x, ex)\n",
        "        loss_y = loss_func(predicted_output_y, ey)\n",
        "        loss = loss_x + loss_y\n",
        "        train_loss += loss\n",
        "        interval_loss += loss\n",
        "\n",
        "        # loss backward\n",
        "        loss.backward()\n",
        "\n",
        "        # optimizer\n",
        "        optimizer.step()\n",
        "\n",
        "        # train samples count\n",
        "        i += 1\n",
        "\n",
        "        # print loss\n",
        "        if i % Interval == 0 and i > 0:\n",
        "            print(\n",
        "                f\"| Epoch {epoch:3d} | {i:5d}/5400   batches | loss: {interval_loss / Interval:8.3f}\")\n",
        "            # whole losses\n",
        "            train_loss_in_batches.append((interval_loss / Interval).cpu().data)\n",
        "            interval_loss = 0\n",
        "\n",
        "    return train_loss / len(trajectory), train_loss_in_batches\n",
        "\n",
        "\n",
        "def val_func(trajectory, lstm, SEQ_LENGTH, epoch, loss_func):\n",
        "    lstm.eval()\n",
        "    cum_loss = 0\n",
        "    length = len(trajectory)\n",
        "    loss_in_batches = []\n",
        "\n",
        "    with torch.no_grad():\n",
        "        for tra in trajectory:\n",
        "            # clean nan\n",
        "            tra = clean_nan(tra)\n",
        "\n",
        "            # remove short trajectories\n",
        "            if len(tra) < 20 or tra[0][-1] == 0:\n",
        "                length -= 1\n",
        "                continue\n",
        "            # get trajectories\n",
        "            x, y, ex, ey, v, ev, a, ea, r, er = costruct_train_dataset(\n",
        "                tra, SEQ_LENGTH)\n",
        "\n",
        "            # cat val data\n",
        "            cat_data = torch.cat([x, y, v, a, r], dim=2)\n",
        "            cat_data = cat_data.to(device)\n",
        "\n",
        "            # model\n",
        "            predicted_output_x, predicted_output_y = lstm(cat_data)\n",
        "\n",
        "            # loss\n",
        "            ex, ey = ex.to(device), ey.to(device)\n",
        "            loss_x = loss_func(predicted_output_x, ex)\n",
        "            loss_y = loss_func(predicted_output_y, ey)\n",
        "            cum_loss += (loss_x + loss_y)\n",
        "            # print loss\n",
        "    print(\n",
        "        f'| Validation Epoch {epoch:3d} | Avg-Val Loss: {cum_loss / (length)}')\n",
        "\n",
        "    return cum_loss / length"
      ],
      "metadata": {
        "id": "2FbYczCEY0BJ"
      },
      "execution_count": null,
      "outputs": []
    },
    {
      "cell_type": "markdown",
      "source": [
        "### 6.2 Model Instantiation\n",
        "- The input shape is 5 which is (x, y, v, a, r)\n",
        "- And data trained on GPU"
      ],
      "metadata": {
        "id": "0YbYMTN6ek2Y"
      }
    },
    {
      "cell_type": "code",
      "source": [
        "# cnn_lstm = Model(6, 32, 1)\n",
        "cnn_lstm = Model(32, 32, 1)\n",
        "cnn_lstm = cnn_lstm.to(device)\n",
        "LEARNING_RATE = 0.001\n",
        "loss_func = torch.nn.MSELoss()\n",
        "optimizer = torch.optim.Adam(cnn_lstm.parameters(), lr=LEARNING_RATE)\n",
        "scheduler = torch.optim.lr_scheduler.StepLR(optimizer, step_size=1, gamma=0.1)"
      ],
      "metadata": {
        "id": "HVNrnIPsY0C6"
      },
      "execution_count": null,
      "outputs": []
    },
    {
      "cell_type": "markdown",
      "source": [
        "### 6.3 Train Model\n",
        "- Trianing preocess with epoch = 3"
      ],
      "metadata": {
        "id": "RvIddzJhesua"
      }
    },
    {
      "cell_type": "code",
      "source": [
        "PREDICTED_LENGTH = 12\n",
        "SEQ_LENGTH = 8\n",
        "EPOCH = 6\n",
        "\n",
        "t_loss_in_batches = []\n",
        "t_loss = []\n",
        "v_loss = []\n",
        "\n",
        "for epoch in range(EPOCH):\n",
        "    train_loss, train_loss_in_batches = train_func(\n",
        "        train_data, cnn_lstm, SEQ_LENGTH, epoch, optimizer, loss_func)\n",
        "    val_loss = val_func(val_data, cnn_lstm, SEQ_LENGTH, epoch, loss_func)\n",
        "    t_loss.append(train_loss.item())\n",
        "    t_loss_in_batches = np.append(t_loss_in_batches, train_loss_in_batches)\n",
        "    v_loss.append(val_loss.item())"
      ],
      "metadata": {
        "id": "bHICs1K8ZfMp",
        "colab": {
          "base_uri": "https://localhost:8080/"
        },
        "outputId": "8d203f3c-bf6c-4417-cfd0-ae222aef48e1"
      },
      "execution_count": null,
      "outputs": [
        {
          "output_type": "stream",
          "name": "stdout",
          "text": [
            "| Epoch   0 |   200/5400   batches | loss:    0.753\n",
            "| Epoch   0 |   400/5400   batches | loss:    0.538\n",
            "| Epoch   0 |   600/5400   batches | loss:    0.458\n",
            "| Epoch   0 |   800/5400   batches | loss:    0.366\n",
            "| Epoch   0 |  1000/5400   batches | loss:    0.388\n",
            "| Epoch   0 |  1200/5400   batches | loss:    0.389\n",
            "| Epoch   0 |  1400/5400   batches | loss:    0.359\n",
            "| Epoch   0 |  1600/5400   batches | loss:    0.333\n",
            "| Epoch   0 |  1800/5400   batches | loss:    0.341\n",
            "| Epoch   0 |  2000/5400   batches | loss:    0.326\n",
            "| Epoch   0 |  2200/5400   batches | loss:    0.323\n",
            "| Epoch   0 |  2400/5400   batches | loss:    0.388\n",
            "| Epoch   0 |  2600/5400   batches | loss:    0.330\n",
            "| Epoch   0 |  2800/5400   batches | loss:    0.331\n",
            "| Epoch   0 |  3000/5400   batches | loss:    0.339\n",
            "| Epoch   0 |  3200/5400   batches | loss:    0.294\n",
            "| Epoch   0 |  3400/5400   batches | loss:    0.277\n",
            "| Epoch   0 |  3600/5400   batches | loss:    0.341\n",
            "| Epoch   0 |  3800/5400   batches | loss:    0.271\n",
            "| Epoch   0 |  4000/5400   batches | loss:    0.356\n",
            "| Epoch   0 |  4200/5400   batches | loss:    0.311\n",
            "| Epoch   0 |  4400/5400   batches | loss:    0.292\n",
            "| Epoch   0 |  4600/5400   batches | loss:    0.315\n",
            "| Epoch   0 |  4800/5400   batches | loss:    0.293\n",
            "| Epoch   0 |  5000/5400   batches | loss:    0.285\n",
            "| Epoch   0 |  5200/5400   batches | loss:    0.261\n",
            "| Epoch   0 |  5400/5400   batches | loss:    0.246\n",
            "| Validation Epoch   0 | Avg-Val Loss: 0.2802339494228363\n",
            "| Epoch   1 |   200/5400   batches | loss:    0.300\n",
            "| Epoch   1 |   400/5400   batches | loss:    0.255\n",
            "| Epoch   1 |   600/5400   batches | loss:    0.283\n",
            "| Epoch   1 |   800/5400   batches | loss:    0.227\n",
            "| Epoch   1 |  1000/5400   batches | loss:    0.261\n",
            "| Epoch   1 |  1200/5400   batches | loss:    0.292\n",
            "| Epoch   1 |  1400/5400   batches | loss:    0.266\n",
            "| Epoch   1 |  1600/5400   batches | loss:    0.247\n",
            "| Epoch   1 |  1800/5400   batches | loss:    0.245\n",
            "| Epoch   1 |  2000/5400   batches | loss:    0.242\n",
            "| Epoch   1 |  2200/5400   batches | loss:    0.223\n",
            "| Epoch   1 |  2400/5400   batches | loss:    0.286\n",
            "| Epoch   1 |  2600/5400   batches | loss:    0.247\n",
            "| Epoch   1 |  2800/5400   batches | loss:    0.265\n",
            "| Epoch   1 |  3000/5400   batches | loss:    0.243\n",
            "| Epoch   1 |  3200/5400   batches | loss:    0.210\n",
            "| Epoch   1 |  3400/5400   batches | loss:    0.211\n",
            "| Epoch   1 |  3600/5400   batches | loss:    0.271\n",
            "| Epoch   1 |  3800/5400   batches | loss:    0.200\n",
            "| Epoch   1 |  4000/5400   batches | loss:    0.277\n",
            "| Epoch   1 |  4200/5400   batches | loss:    0.250\n",
            "| Epoch   1 |  4400/5400   batches | loss:    0.229\n",
            "| Epoch   1 |  4600/5400   batches | loss:    0.251\n",
            "| Epoch   1 |  4800/5400   batches | loss:    0.241\n",
            "| Epoch   1 |  5000/5400   batches | loss:    0.240\n",
            "| Epoch   1 |  5200/5400   batches | loss:    0.219\n",
            "| Epoch   1 |  5400/5400   batches | loss:    0.207\n",
            "| Validation Epoch   1 | Avg-Val Loss: 0.23822058737277985\n",
            "| Epoch   2 |   200/5400   batches | loss:    0.249\n",
            "| Epoch   2 |   400/5400   batches | loss:    0.216\n",
            "| Epoch   2 |   600/5400   batches | loss:    0.245\n",
            "| Epoch   2 |   800/5400   batches | loss:    0.190\n",
            "| Epoch   2 |  1000/5400   batches | loss:    0.218\n",
            "| Epoch   2 |  1200/5400   batches | loss:    0.245\n",
            "| Epoch   2 |  1400/5400   batches | loss:    0.223\n",
            "| Epoch   2 |  1600/5400   batches | loss:    0.215\n",
            "| Epoch   2 |  1800/5400   batches | loss:    0.210\n",
            "| Epoch   2 |  2000/5400   batches | loss:    0.219\n",
            "| Epoch   2 |  2200/5400   batches | loss:    0.196\n",
            "| Epoch   2 |  2400/5400   batches | loss:    0.247\n",
            "| Epoch   2 |  2600/5400   batches | loss:    0.229\n",
            "| Epoch   2 |  2800/5400   batches | loss:    0.240\n",
            "| Epoch   2 |  3000/5400   batches | loss:    0.216\n",
            "| Epoch   2 |  3200/5400   batches | loss:    0.186\n",
            "| Epoch   2 |  3400/5400   batches | loss:    0.193\n",
            "| Epoch   2 |  3600/5400   batches | loss:    0.248\n",
            "| Epoch   2 |  3800/5400   batches | loss:    0.180\n",
            "| Epoch   2 |  4000/5400   batches | loss:    0.252\n",
            "| Epoch   2 |  4200/5400   batches | loss:    0.238\n",
            "| Epoch   2 |  4400/5400   batches | loss:    0.210\n",
            "| Epoch   2 |  4600/5400   batches | loss:    0.229\n",
            "| Epoch   2 |  4800/5400   batches | loss:    0.224\n",
            "| Epoch   2 |  5000/5400   batches | loss:    0.221\n",
            "| Epoch   2 |  5200/5400   batches | loss:    0.205\n",
            "| Epoch   2 |  5400/5400   batches | loss:    0.196\n",
            "| Validation Epoch   2 | Avg-Val Loss: 0.22006569802761078\n",
            "| Epoch   3 |   200/5400   batches | loss:    0.233\n",
            "| Epoch   3 |   400/5400   batches | loss:    0.204\n",
            "| Epoch   3 |   600/5400   batches | loss:    0.231\n",
            "| Epoch   3 |   800/5400   batches | loss:    0.177\n",
            "| Epoch   3 |  1000/5400   batches | loss:    0.202\n",
            "| Epoch   3 |  1200/5400   batches | loss:    0.237\n",
            "| Epoch   3 |  1400/5400   batches | loss:    0.209\n",
            "| Epoch   3 |  1600/5400   batches | loss:    0.204\n",
            "| Epoch   3 |  1800/5400   batches | loss:    0.196\n",
            "| Epoch   3 |  2000/5400   batches | loss:    0.211\n",
            "| Epoch   3 |  2200/5400   batches | loss:    0.188\n",
            "| Epoch   3 |  2400/5400   batches | loss:    0.235\n",
            "| Epoch   3 |  2600/5400   batches | loss:    0.220\n",
            "| Epoch   3 |  2800/5400   batches | loss:    0.227\n",
            "| Epoch   3 |  3000/5400   batches | loss:    0.205\n",
            "| Epoch   3 |  3200/5400   batches | loss:    0.177\n",
            "| Epoch   3 |  3400/5400   batches | loss:    0.186\n",
            "| Epoch   3 |  3600/5400   batches | loss:    0.237\n",
            "| Epoch   3 |  3800/5400   batches | loss:    0.172\n",
            "| Epoch   3 |  4000/5400   batches | loss:    0.242\n",
            "| Epoch   3 |  4200/5400   batches | loss:    0.232\n",
            "| Epoch   3 |  4400/5400   batches | loss:    0.201\n",
            "| Epoch   3 |  4600/5400   batches | loss:    0.218\n",
            "| Epoch   3 |  4800/5400   batches | loss:    0.217\n",
            "| Epoch   3 |  5000/5400   batches | loss:    0.210\n",
            "| Epoch   3 |  5200/5400   batches | loss:    0.198\n",
            "| Epoch   3 |  5400/5400   batches | loss:    0.191\n",
            "| Validation Epoch   3 | Avg-Val Loss: 0.21565821766853333\n",
            "| Epoch   4 |   200/5400   batches | loss:    0.224\n",
            "| Epoch   4 |   400/5400   batches | loss:    0.199\n",
            "| Epoch   4 |   600/5400   batches | loss:    0.223\n",
            "| Epoch   4 |   800/5400   batches | loss:    0.171\n",
            "| Epoch   4 |  1000/5400   batches | loss:    0.193\n",
            "| Epoch   4 |  1200/5400   batches | loss:    0.231\n",
            "| Epoch   4 |  1400/5400   batches | loss:    0.202\n",
            "| Epoch   4 |  1600/5400   batches | loss:    0.198\n",
            "| Epoch   4 |  1800/5400   batches | loss:    0.188\n",
            "| Epoch   4 |  2000/5400   batches | loss:    0.206\n",
            "| Epoch   4 |  2200/5400   batches | loss:    0.183\n",
            "| Epoch   4 |  2400/5400   batches | loss:    0.228\n",
            "| Epoch   4 |  2600/5400   batches | loss:    0.216\n",
            "| Epoch   4 |  2800/5400   batches | loss:    0.221\n",
            "| Epoch   4 |  3000/5400   batches | loss:    0.200\n",
            "| Epoch   4 |  3200/5400   batches | loss:    0.171\n",
            "| Epoch   4 |  3400/5400   batches | loss:    0.182\n",
            "| Epoch   4 |  3600/5400   batches | loss:    0.230\n",
            "| Epoch   4 |  3800/5400   batches | loss:    0.167\n",
            "| Epoch   4 |  4000/5400   batches | loss:    0.235\n",
            "| Epoch   4 |  4200/5400   batches | loss:    0.228\n",
            "| Epoch   4 |  4400/5400   batches | loss:    0.196\n",
            "| Epoch   4 |  4600/5400   batches | loss:    0.211\n",
            "| Epoch   4 |  4800/5400   batches | loss:    0.211\n",
            "| Epoch   4 |  5000/5400   batches | loss:    0.202\n",
            "| Epoch   4 |  5200/5400   batches | loss:    0.192\n",
            "| Epoch   4 |  5400/5400   batches | loss:    0.187\n",
            "| Validation Epoch   4 | Avg-Val Loss: 0.21271532773971558\n",
            "| Epoch   5 |   200/5400   batches | loss:    0.218\n",
            "| Epoch   5 |   400/5400   batches | loss:    0.194\n",
            "| Epoch   5 |   600/5400   batches | loss:    0.217\n",
            "| Epoch   5 |   800/5400   batches | loss:    0.167\n",
            "| Epoch   5 |  1000/5400   batches | loss:    0.187\n",
            "| Epoch   5 |  1200/5400   batches | loss:    0.226\n",
            "| Epoch   5 |  1400/5400   batches | loss:    0.197\n",
            "| Epoch   5 |  1600/5400   batches | loss:    0.193\n",
            "| Epoch   5 |  1800/5400   batches | loss:    0.183\n",
            "| Epoch   5 |  2000/5400   batches | loss:    0.201\n",
            "| Epoch   5 |  2200/5400   batches | loss:    0.180\n",
            "| Epoch   5 |  2400/5400   batches | loss:    0.222\n",
            "| Epoch   5 |  2600/5400   batches | loss:    0.213\n",
            "| Epoch   5 |  2800/5400   batches | loss:    0.217\n",
            "| Epoch   5 |  3000/5400   batches | loss:    0.196\n",
            "| Epoch   5 |  3200/5400   batches | loss:    0.168\n",
            "| Epoch   5 |  3400/5400   batches | loss:    0.178\n",
            "| Epoch   5 |  3600/5400   batches | loss:    0.225\n",
            "| Epoch   5 |  3800/5400   batches | loss:    0.164\n",
            "| Epoch   5 |  4000/5400   batches | loss:    0.230\n",
            "| Epoch   5 |  4200/5400   batches | loss:    0.225\n",
            "| Epoch   5 |  4400/5400   batches | loss:    0.192\n",
            "| Epoch   5 |  4600/5400   batches | loss:    0.207\n",
            "| Epoch   5 |  4800/5400   batches | loss:    0.207\n",
            "| Epoch   5 |  5000/5400   batches | loss:    0.197\n",
            "| Epoch   5 |  5200/5400   batches | loss:    0.187\n",
            "| Epoch   5 |  5400/5400   batches | loss:    0.184\n",
            "| Validation Epoch   5 | Avg-Val Loss: 0.20945604145526886\n"
          ]
        }
      ]
    },
    {
      "cell_type": "markdown",
      "source": [
        "## 6.4 Plot Training Loss\n",
        "- Plot the detailed train loss and the train-val loss with epochs."
      ],
      "metadata": {
        "id": "Wa5GGylGfGZr"
      }
    },
    {
      "cell_type": "code",
      "source": [
        "plt.figure(figsize=(15, 5))\n",
        "plt.subplot(1, 2, 1)\n",
        "\n",
        "epovec = range(len(t_loss_in_batches))\n",
        "plt.plot(epovec, t_loss_in_batches, linewidth=1)\n",
        "# annotations:\n",
        "plt.title(\"Training Loss\")\n",
        "plt.xlabel(\"Steps\")\n",
        "plt.ylabel(\"Train Loss\")\n",
        "# plt.show()\n",
        "\n",
        "# plot_train_loss(t_loss_in_batches, plt)\n",
        "plt.subplot(1, 2, 2)\n",
        "# plt.figure(figsize=(5,5))\n",
        "epovec = range(len(t_loss))\n",
        "plt.plot(epovec, t_loss, epovec, v_loss, linewidth=1)\n",
        "plt.legend(('Train Loss', 'Validiation Loss'))\n",
        "\n",
        "# annotations:\n",
        "plt.title(\"Training and Validation Loss\")\n",
        "plt.xlabel(\"Epoch\")\n",
        "plt.ylabel(\"Loss\")\n",
        "plt.show()"
      ],
      "metadata": {
        "id": "DHpvBrQfZfPK",
        "colab": {
          "base_uri": "https://localhost:8080/",
          "height": 345
        },
        "outputId": "c1c266cd-c169-48c5-c7cb-51e7a6ac8371"
      },
      "execution_count": null,
      "outputs": [
        {
          "output_type": "display_data",
          "data": {
            "text/plain": [
              "<Figure size 1080x360 with 2 Axes>"
            ],
            "image/png": "[encoded data removed]"
          },
          "metadata": {}
        }
      ]
    },
    {
      "cell_type": "markdown",
      "source": [
        "## 7. Test"
      ],
      "metadata": {
        "id": "jLIy8OSlfQMy"
      }
    },
    {
      "cell_type": "markdown",
      "source": [
        "### 7.1 Test Function\n",
        "- In test function, different from training process, we do not divide\n",
        "the singe trajectory into different samples.\n",
        "In contrast, we get the ground truth and predicted trajectories directly.\n",
        "Then we use three matrics which called ADE, FDE and missRate to\n",
        "evaluate the results."
      ],
      "metadata": {
        "id": "KoFodUdTfWyl"
      }
    },
    {
      "cell_type": "code",
      "source": [
        "def test_func(model, trajectory, SEQ_LENGTH, PREDICTED_LENGTH):\n",
        "    # get trajectories contrains x, y, (speed, acceleration, heading rate)\n",
        "    traj_with_xyvar = []\n",
        "    traj_with_xy = []\n",
        "    for tra in trajectory:\n",
        "        traj_with_xyvar.append(tra[2:7])\n",
        "        traj_with_xy.append(tra[2:4])\n",
        "\n",
        "    # scale the data\n",
        "    # test data with x, y, speed, acceleration, heading rate\n",
        "    scaler = MinMaxScaler(feature_range=(-1, 1))\n",
        "    xyvar = scaler.fit_transform(traj_with_xyvar)\n",
        "\n",
        "    # test data with x, y, speed, acceleration, heading rate\n",
        "    scaler_new = MinMaxScaler(feature_range=(-1, 1))\n",
        "    xy_new = scaler_new.fit_transform(traj_with_xy)\n",
        "\n",
        "    # get the x, y, speed, acceleration, heading rate respectively, shape: [m, 1]\n",
        "    x_s, y_s, v_s, a_s, r_s = xyvar[:, 0], xyvar[:,\n",
        "                                                 1], xyvar[:, 2], xyvar[:, 3], xyvar[:, 4]\n",
        "\n",
        "    # get the x, y ground truth of x, y\n",
        "    # and speed, acceleration, heading rate as the test data to the model\n",
        "    x, expected_x = [x_s[0:SEQ_LENGTH]\n",
        "                     ], x_s[SEQ_LENGTH:SEQ_LENGTH + PREDICTED_LENGTH]\n",
        "    y, expected_y = [y_s[0:SEQ_LENGTH]\n",
        "                     ], y_s[SEQ_LENGTH:SEQ_LENGTH + PREDICTED_LENGTH]\n",
        "    v = [v_s[0:SEQ_LENGTH]]\n",
        "    a = [a_s[0:SEQ_LENGTH]]\n",
        "    r = [r_s[0:SEQ_LENGTH]]\n",
        "\n",
        "    original_x, original_y = x_s[:SEQ_LENGTH], y_s[:SEQ_LENGTH]  # [8, 1]\n",
        "\n",
        "    # convert datat to tensor and change the shape, shape: [1, 8, 1]\n",
        "    dataX, dataY = reshape_data_2(x), reshape_data_2(y)\n",
        "    dataV = reshape_data_2(v)\n",
        "    dataA = reshape_data_2(a)\n",
        "    dataR = reshape_data_2(r)\n",
        "\n",
        "    # return origin x, y and ground truth for plot\n",
        "    # origin data\n",
        "    original_x = reshape_data_1(original_x)\n",
        "    original_y = reshape_data_1(original_y)  # [8 ,1]\n",
        "    original_xy = torch.cat([original_x, original_y], dim=1)  # [8, 2]\n",
        "    data_original = scaler_new.inverse_transform(original_xy)  # [8, 2]\n",
        "    # ground truth\n",
        "    expected_x = reshape_data_1(expected_x)\n",
        "    expected_y = reshape_data_1(expected_y)  # [m, 10, 1]\n",
        "    ground_truth_xy = torch.cat([expected_x, expected_y], dim=1)  # [10, 2]\n",
        "    data_expected = scaler_new.inverse_transform(ground_truth_xy)  # [10, 2]\n",
        "\n",
        "    # eval\n",
        "    model.eval()\n",
        "\n",
        "    with torch.no_grad():\n",
        "        # cat trjectories data with x, y, speed, acceleration, heading rate to test\n",
        "        cat_data = torch.cat(\n",
        "            [dataX, dataY, dataV, dataA, dataR], dim=2)  # [m, 8, 5]\n",
        "        cat_data = cat_data.to(device)\n",
        "        # test model\n",
        "        output_x, output_y = model(cat_data)  # [m, 10, 1]\n",
        "\n",
        "        # concat output\n",
        "        output = torch.cat([output_x, output_y],\n",
        "                           dim=2).cpu().data  # [m, 10, 2]\n",
        "        output = torch.reshape(output, [output.shape[1], output.shape[2]])\n",
        "\n",
        "        # predicted data\n",
        "        predicted_data = scaler_new.inverse_transform(output)  # [m, 10, 2]\n",
        "\n",
        "    return predicted_data, data_expected, data_original"
      ],
      "metadata": {
        "id": "ed-hbgRzZfRf"
      },
      "execution_count": null,
      "outputs": []
    },
    {
      "cell_type": "markdown",
      "source": [
        "### 7.2 Metrics\n",
        "- ADE, FDE and missRate"
      ],
      "metadata": {
        "id": "MH4_2ikAfeY9"
      }
    },
    {
      "cell_type": "code",
      "source": [
        "p_one_mode = np.array([[1.]])\n",
        "\n",
        "\n",
        "def Metrics(lstm, test_data, SEQ_LENGTH, PREDICTED_LENGTH):\n",
        "    # initialization\n",
        "    avg_ade = 0\n",
        "    avg_fde = 0\n",
        "    avg_missRate = 0\n",
        "    length = len(test_data)\n",
        "    plot_data = []\n",
        "\n",
        "    # get predicted, origin and ground truth x, y\n",
        "    for tra in tqdm(test_data):\n",
        "        # clean nan\n",
        "        tra = clean_nan(tra)\n",
        "\n",
        "        # remove short trajectories\n",
        "        if len(tra) < 20:\n",
        "            length -= 1\n",
        "            continue\n",
        "        if tra[0][-1] == 0:\n",
        "            continue\n",
        "\n",
        "        # get predicted, origin and ground truth x, y from test function(model)\n",
        "        predicted_data, data_expected, data_original = test_func(\n",
        "            lstm, tra, SEQ_LENGTH, PREDICTED_LENGTH)\n",
        "\n",
        "        # collect trajectories data\n",
        "        plot_data.append([predicted_data, data_expected, data_original])\n",
        "\n",
        "        # convert the data to the nuscenes ade, fde, missRate function format\n",
        "        modes = data_expected.shape[0]\n",
        "        x_one_mode, y_one_mode = traj2modes(\n",
        "            predicted_data), traj2modes(data_expected)\n",
        "\n",
        "        # compute ade, fde and missRate with nuscenes metrics\n",
        "        ade = metrics.min_ade_k(x_one_mode, y_one_mode, p_one_mode)\n",
        "        fde = metrics.min_fde_k(x_one_mode, y_one_mode, p_one_mode)\n",
        "        missRate = metrics.miss_rate_top_k(\n",
        "            x_one_mode, y_one_mode, p_one_mode, 2)\n",
        "\n",
        "        # avg_ade, avg_fde and avg_missRate\n",
        "        avg_ade += ade\n",
        "        avg_fde += fde\n",
        "        avg_missRate += missRate\n",
        "\n",
        "    avg_ade = avg_ade / length\n",
        "    avg_fde = avg_fde / length\n",
        "    avg_missRate = 1 - avg_missRate / length\n",
        "    print()\n",
        "    print(\"avg_ade:\", avg_ade[0][0])\n",
        "    print(\"avg_fde:\", avg_fde[0][0])\n",
        "    print(\"avg_missRate:\", avg_missRate[0][0])\n",
        "\n",
        "    return plot_data, avg_ade, avg_fde, avg_missRate"
      ],
      "metadata": {
        "id": "pdkJKEvtZfTK"
      },
      "execution_count": null,
      "outputs": []
    },
    {
      "cell_type": "code",
      "source": [
        "plot_data, avg_ade, avg_fde, avg_missRate = Metrics(\n",
        "    cnn_lstm, test_data, SEQ_LENGTH, PREDICTED_LENGTH)"
      ],
      "metadata": {
        "id": "7IuPfoPGZfVD",
        "colab": {
          "base_uri": "https://localhost:8080/",
          "height": 122,
          "referenced_widgets": [
            "e20021ca41664a129f55a8e16d5726ae",
            "20fb2f6a89054c63bd7d1c452c8266fb",
            "5bc4105b944f4a06a31e417c8c6cf137",
            "89eceb373d324d64b94c30d89a7bf305",
            "1b85593ae8a44d48a7234e739bc73a48",
            "08410d82b037448f87fa9dba7a184c7a",
            "654004995ca24d44814c00f0fe795f9b",
            "74b40ef11c2c4a9680c656e5214b6ff8",
            "1eeff5d9a3b5419ea803676616230de9",
            "2f676cb5f393445487dde5bb3e79460b",
            "9284833b94764aa1820d5702a01b9a62"
          ]
        },
        "outputId": "52148846-1d17-4377-f808-da1cde485926"
      },
      "execution_count": null,
      "outputs": [
        {
          "output_type": "display_data",
          "data": {
            "text/plain": [
              "  0%|          | 0/3501 [00:00<?, ?it/s]"
            ],
            "application/vnd.jupyter.widget-view+json": {
              "version_major": 2,
              "version_minor": 0,
              "model_id": "e20021ca41664a129f55a8e16d5726ae"
            }
          },
          "metadata": {}
        },
        {
          "output_type": "stream",
          "name": "stdout",
          "text": [
            "\n",
            "avg_ade: 1.155114251861771\n",
            "avg_fde: 2.1056027991212427\n",
            "avg_missRate: 0.7618639222412807\n"
          ]
        }
      ]
    }
  ]
}